{
 "cells": [
  {
   "cell_type": "code",
   "execution_count": 1,
   "metadata": {},
   "outputs": [
    {
     "name": "stdout",
     "output_type": "stream",
     "text": [
      "Hello World!\n"
     ]
    }
   ],
   "source": [
    "print(\"Hello World!\")"
   ]
  },
  {
   "cell_type": "code",
   "execution_count": 2,
   "metadata": {},
   "outputs": [],
   "source": [
    "x = ((67+33)*(25-20)) / (25)"
   ]
  },
  {
   "cell_type": "code",
   "execution_count": 3,
   "metadata": {},
   "outputs": [
    {
     "name": "stdout",
     "output_type": "stream",
     "text": [
      "20.0\n"
     ]
    }
   ],
   "source": [
    "print(x)"
   ]
  },
  {
   "cell_type": "code",
   "execution_count": 7,
   "metadata": {},
   "outputs": [],
   "source": [
    "y = (4 + 5*60 - 17 + 65/4)**(1/2)"
   ]
  },
  {
   "cell_type": "code",
   "execution_count": 8,
   "metadata": {},
   "outputs": [
    {
     "data": {
      "text/plain": [
       "17.414"
      ]
     },
     "execution_count": 8,
     "metadata": {},
     "output_type": "execute_result"
    }
   ],
   "source": [
    "round(y, 3)"
   ]
  },
  {
   "cell_type": "code",
   "execution_count": 9,
   "metadata": {},
   "outputs": [
    {
     "name": "stdout",
     "output_type": "stream",
     "text": [
      "17.414074767267998\n"
     ]
    }
   ],
   "source": [
    "print(y)"
   ]
  },
  {
   "cell_type": "code",
   "execution_count": 10,
   "metadata": {},
   "outputs": [],
   "source": [
    "z = 6.996 + 45 * (13/2)**2 + 2 * (18)**(1/2)"
   ]
  },
  {
   "cell_type": "code",
   "execution_count": 11,
   "metadata": {},
   "outputs": [
    {
     "data": {
      "text/plain": [
       "1916.731"
      ]
     },
     "execution_count": 11,
     "metadata": {},
     "output_type": "execute_result"
    }
   ],
   "source": [
    "round(z, 3)"
   ]
  },
  {
   "cell_type": "code",
   "execution_count": 12,
   "metadata": {},
   "outputs": [],
   "source": [
    "a = (1267 - 20 * (5**3 / 2)**2)/(8**5 * 36**(1/2))"
   ]
  },
  {
   "cell_type": "code",
   "execution_count": 13,
   "metadata": {},
   "outputs": [
    {
     "data": {
      "text/plain": [
       "-0.391"
      ]
     },
     "execution_count": 13,
     "metadata": {},
     "output_type": "execute_result"
    }
   ],
   "source": [
    "round(a, 3)"
   ]
  },
  {
   "cell_type": "code",
   "execution_count": 14,
   "metadata": {},
   "outputs": [],
   "source": [
    "b = (((9**(1/2))**3)**2)**2 / (-2)**-3"
   ]
  },
  {
   "cell_type": "code",
   "execution_count": 15,
   "metadata": {},
   "outputs": [
    {
     "data": {
      "text/plain": [
       "-4251528.0"
      ]
     },
     "execution_count": 15,
     "metadata": {},
     "output_type": "execute_result"
    }
   ],
   "source": [
    "round(b, 3)"
   ]
  },
  {
   "cell_type": "code",
   "execution_count": 16,
   "metadata": {},
   "outputs": [
    {
     "data": {
      "text/plain": [
       "'hey!'"
      ]
     },
     "execution_count": 16,
     "metadata": {},
     "output_type": "execute_result"
    }
   ],
   "source": [
    "'hey'+'!'"
   ]
  },
  {
   "cell_type": "code",
   "execution_count": 17,
   "metadata": {},
   "outputs": [
    {
     "data": {
      "text/plain": [
       "float"
      ]
     },
     "execution_count": 17,
     "metadata": {},
     "output_type": "execute_result"
    }
   ],
   "source": [
    "type(2+3.4)"
   ]
  },
  {
   "cell_type": "code",
   "execution_count": 18,
   "metadata": {},
   "outputs": [
    {
     "data": {
      "text/plain": [
       "int"
      ]
     },
     "execution_count": 18,
     "metadata": {},
     "output_type": "execute_result"
    }
   ],
   "source": [
    "type(2+3)"
   ]
  },
  {
   "cell_type": "code",
   "execution_count": 19,
   "metadata": {},
   "outputs": [
    {
     "data": {
      "text/plain": [
       "'2'"
      ]
     },
     "execution_count": 19,
     "metadata": {},
     "output_type": "execute_result"
    }
   ],
   "source": [
    "str(int(float('2.4')))"
   ]
  },
  {
   "cell_type": "code",
   "execution_count": 20,
   "metadata": {},
   "outputs": [
    {
     "data": {
      "text/plain": [
       "str"
      ]
     },
     "execution_count": 20,
     "metadata": {},
     "output_type": "execute_result"
    }
   ],
   "source": [
    "type(str(int(float('2.4'))))"
   ]
  },
  {
   "cell_type": "code",
   "execution_count": 21,
   "metadata": {},
   "outputs": [
    {
     "data": {
      "text/plain": [
       "float"
      ]
     },
     "execution_count": 21,
     "metadata": {},
     "output_type": "execute_result"
    }
   ],
   "source": [
    "type(4 ** (1/2))"
   ]
  },
  {
   "cell_type": "code",
   "execution_count": 22,
   "metadata": {},
   "outputs": [
    {
     "data": {
      "text/plain": [
       "'4242'"
      ]
     },
     "execution_count": 22,
     "metadata": {},
     "output_type": "execute_result"
    }
   ],
   "source": [
    "'42'*2"
   ]
  },
  {
   "cell_type": "code",
   "execution_count": 23,
   "metadata": {},
   "outputs": [
    {
     "data": {
      "text/plain": [
       "str"
      ]
     },
     "execution_count": 23,
     "metadata": {},
     "output_type": "execute_result"
    }
   ],
   "source": [
    "type('I' + 'love' + 'Python')"
   ]
  },
  {
   "cell_type": "code",
   "execution_count": 24,
   "metadata": {},
   "outputs": [
    {
     "name": "stdout",
     "output_type": "stream",
     "text": [
      "Введите своё имя: \n",
      "Конус\n"
     ]
    }
   ],
   "source": [
    "user_name = input('Введите своё имя: \\n')"
   ]
  },
  {
   "cell_type": "code",
   "execution_count": 25,
   "metadata": {},
   "outputs": [
    {
     "name": "stdout",
     "output_type": "stream",
     "text": [
      "Введите множитель для числа 5: \n",
      "2\n",
      "10\n"
     ]
    }
   ],
   "source": [
    "multiplier = int(input('Введите множитель для числа 5: \\n'))\n",
    "print(5*multiplier)"
   ]
  },
  {
   "cell_type": "code",
   "execution_count": 26,
   "metadata": {},
   "outputs": [
    {
     "name": "stdout",
     "output_type": "stream",
     "text": [
      "Введите основание степени: \n",
      "6\n",
      "Введите показатель степени: \n",
      "4\n",
      "Полученное число: 1296.0\n"
     ]
    }
   ],
   "source": [
    "a = float(input('Введите основание степени: \\n'))\n",
    "b = float(input('Введите показатель степени: \\n'))\n",
    "# В функции print() можно в качестве аргументов \n",
    "# перечислять через запятую все нужные для вывода данные\n",
    "print('Полученное число:', a**b) "
   ]
  },
  {
   "cell_type": "code",
   "execution_count": 27,
   "metadata": {},
   "outputs": [
    {
     "ename": "NameError",
     "evalue": "name 'n' is not defined",
     "output_type": "error",
     "traceback": [
      "\u001b[1;31m---------------------------------------------------------------------------\u001b[0m",
      "\u001b[1;31mNameError\u001b[0m                                 Traceback (most recent call last)",
      "\u001b[1;32m<ipython-input-27-feabbde1a036>\u001b[0m in \u001b[0;36m<module>\u001b[1;34m\u001b[0m\n\u001b[1;32m----> 1\u001b[1;33m \u001b[0mname\u001b[0m \u001b[1;33m=\u001b[0m \u001b[0minput\u001b[0m\u001b[1;33m(\u001b[0m\u001b[1;34m'Введите ваше имя'\u001b[0m \u001b[1;33m/\u001b[0m\u001b[0mn\u001b[0m\u001b[1;33m)\u001b[0m\u001b[1;33m\u001b[0m\u001b[1;33m\u001b[0m\u001b[0m\n\u001b[0m\u001b[0;32m      2\u001b[0m \u001b[0mprint\u001b[0m\u001b[1;33m(\u001b[0m\u001b[1;34m'Сегодня вас зовут'\u001b[0m\u001b[1;33m,\u001b[0m \u001b[0mname\u001b[0m\u001b[1;33m)\u001b[0m\u001b[1;33m\u001b[0m\u001b[1;33m\u001b[0m\u001b[0m\n",
      "\u001b[1;31mNameError\u001b[0m: name 'n' is not defined"
     ]
    }
   ],
   "source": [
    "name = input('Введите ваше имя' /n)\n",
    "print('Сегодня вас зовут', name)"
   ]
  },
  {
   "cell_type": "code",
   "execution_count": 28,
   "metadata": {},
   "outputs": [
    {
     "name": "stdout",
     "output_type": "stream",
     "text": [
      "Введите ваше имя \n",
      "Куст\n",
      "Сегодня вас зовут Куст\n"
     ]
    }
   ],
   "source": [
    "name = input('Введите ваше имя \\n')\n",
    "print('Сегодня вас зовут', name)"
   ]
  },
  {
   "cell_type": "code",
   "execution_count": 29,
   "metadata": {},
   "outputs": [
    {
     "name": "stdout",
     "output_type": "stream",
     "text": [
      "Куст\n",
      "Сегодня вас зовут Куст\n"
     ]
    }
   ],
   "source": [
    "name = input()\n",
    "print('Сегодня вас зовут', name)"
   ]
  },
  {
   "cell_type": "code",
   "execution_count": 30,
   "metadata": {},
   "outputs": [
    {
     "name": "stdout",
     "output_type": "stream",
     "text": [
      "Введите ваше имяКуст\n",
      "Сегодня вас зовут Куст\n"
     ]
    }
   ],
   "source": [
    "name = input('Введите ваше имя')\n",
    "print('Сегодня вас зовут', name)"
   ]
  },
  {
   "cell_type": "code",
   "execution_count": 31,
   "metadata": {},
   "outputs": [
    {
     "name": "stdout",
     "output_type": "stream",
     "text": [
      "Введите ваше имя: Куст\n",
      "Сегодня вас зовут Куст\n"
     ]
    }
   ],
   "source": [
    "name = input('Введите ваше имя: ')\n",
    "print('Сегодня вас зовут', name)"
   ]
  },
  {
   "cell_type": "code",
   "execution_count": 32,
   "metadata": {},
   "outputs": [
    {
     "name": "stdout",
     "output_type": "stream",
     "text": [
      "Алексейd\n",
      "Сегодня вас зовут d\n"
     ]
    }
   ],
   "source": [
    "name = input(\"Алексей\")\n",
    "print(\"Сегодня вас зовут\", name)"
   ]
  },
  {
   "cell_type": "code",
   "execution_count": 34,
   "metadata": {},
   "outputs": [
    {
     "data": {
      "text/plain": [
       "13"
      ]
     },
     "execution_count": 34,
     "metadata": {},
     "output_type": "execute_result"
    }
   ],
   "source": [
    "word = \"Очаровательно\"\n",
    "len(word)"
   ]
  },
  {
   "cell_type": "code",
   "execution_count": 35,
   "metadata": {},
   "outputs": [
    {
     "name": "stdout",
     "output_type": "stream",
     "text": [
      "2\n"
     ]
    }
   ],
   "source": [
    "a = 117\n",
    "b = 23\n",
    "print(a % b)"
   ]
  },
  {
   "cell_type": "code",
   "execution_count": 36,
   "metadata": {},
   "outputs": [
    {
     "name": "stdout",
     "output_type": "stream",
     "text": [
      "113628013506.996\n"
     ]
    }
   ],
   "source": [
    "x = 100500\n",
    "print(6.996 + 45 * (x/2)**2 + 2*x)"
   ]
  },
  {
   "cell_type": "code",
   "execution_count": 37,
   "metadata": {},
   "outputs": [
    {
     "name": "stdout",
     "output_type": "stream",
     "text": [
      "24.691358024691358\n"
     ]
    }
   ],
   "source": [
    "weight = 80\n",
    "height = 1.8\n",
    "print(weight / height**2)"
   ]
  },
  {
   "cell_type": "code",
   "execution_count": 38,
   "metadata": {},
   "outputs": [
    {
     "name": "stdout",
     "output_type": "stream",
     "text": [
      "8.88748820522211\n"
     ]
    }
   ],
   "source": [
    "string_1 = 'Hello, world!'\n",
    "string_2 = 'Python <3'\n",
    "string_3 = 'qwerty'\n",
    "print((len(string_1) * len(string_2) * len(string_3))**(1/3))"
   ]
  },
  {
   "cell_type": "code",
   "execution_count": 39,
   "metadata": {},
   "outputs": [
    {
     "name": "stdout",
     "output_type": "stream",
     "text": [
      "Привет! 7 16807\n"
     ]
    }
   ],
   "source": [
    "string = 'Привет!'\n",
    "power = 5\n",
    "print(string, len(string), len(string)**power)"
   ]
  },
  {
   "cell_type": "code",
   "execution_count": 40,
   "metadata": {},
   "outputs": [
    {
     "name": "stdout",
     "output_type": "stream",
     "text": [
      "Это слово длинное.\n"
     ]
    }
   ],
   "source": [
    "word = 'ОченьДлинноеСлово'\n",
    "if len(word) > 7:\n",
    "    print(\"Это слово длинное.\")\n",
    "else:\n",
    "    print(\"Это слово короткое.\")"
   ]
  },
  {
   "cell_type": "code",
   "execution_count": 41,
   "metadata": {},
   "outputs": [
    {
     "name": "stdout",
     "output_type": "stream",
     "text": [
      "Эх, это не очень редкое слово...\n"
     ]
    }
   ],
   "source": [
    "word = 'ОченьДлинноеСлово'\n",
    "if 'ф' in word:\n",
    "    print(\"Ого! Вы ввели редкое слово!\")\n",
    "else:\n",
    "    print(\"Эх, это не очень редкое слово...\")"
   ]
  },
  {
   "cell_type": "code",
   "execution_count": 42,
   "metadata": {},
   "outputs": [
    {
     "name": "stdout",
     "output_type": "stream",
     "text": [
      "Ого! Вы ввели редкое слово!\n"
     ]
    }
   ],
   "source": [
    "word = 'фуфель'\n",
    "if 'ф' in word:\n",
    "    print(\"Ого! Вы ввели редкое слово!\")\n",
    "else:\n",
    "    print(\"Эх, это не очень редкое слово...\")"
   ]
  },
  {
   "cell_type": "code",
   "execution_count": 43,
   "metadata": {},
   "outputs": [
    {
     "name": "stdout",
     "output_type": "stream",
     "text": [
      "Выбранная буква есть в введённом слове\n"
     ]
    }
   ],
   "source": [
    "word = 'ОченьДлинноеСлово'\n",
    "letter = 'и'\n",
    "if letter in word:\n",
    "    print(\"Выбранная буква есть в введённом слове\")\n",
    "else:\n",
    "    print(\"Выбранной буквы нет в введённом слове\")"
   ]
  },
  {
   "cell_type": "code",
   "execution_count": 44,
   "metadata": {},
   "outputs": [
    {
     "name": "stdout",
     "output_type": "stream",
     "text": [
      "Выбранной буквы нет в введённом слове\n"
     ]
    }
   ],
   "source": [
    "word = 'фуфел'\n",
    "letter = 'и'\n",
    "if letter in word:\n",
    "    print(\"Выбранная буква есть в введённом слове\")\n",
    "else:\n",
    "    print(\"Выбранной буквы нет в введённом слове\")"
   ]
  },
  {
   "cell_type": "code",
   "execution_count": 45,
   "metadata": {},
   "outputs": [
    {
     "data": {
      "text/plain": [
       "0.19999999999999996"
      ]
     },
     "execution_count": 45,
     "metadata": {},
     "output_type": "execute_result"
    }
   ],
   "source": [
    "1.2 % 1"
   ]
  },
  {
   "cell_type": "code",
   "execution_count": 46,
   "metadata": {},
   "outputs": [
    {
     "data": {
      "text/plain": [
       "1.0"
      ]
     },
     "execution_count": 46,
     "metadata": {},
     "output_type": "execute_result"
    }
   ],
   "source": [
    "1.2 // 1"
   ]
  },
  {
   "cell_type": "code",
   "execution_count": 50,
   "metadata": {},
   "outputs": [
    {
     "name": "stdout",
     "output_type": "stream",
     "text": [
      "Квадратный корень из 170 - не целое число\n"
     ]
    }
   ],
   "source": [
    "number = 170\n",
    "if (number**(1/2)) % 1 == 0:\n",
    "    print(int(number**(1/2)))\n",
    "else:\n",
    "    print(\"Квадратный корень из\", number, \"- не целое число\")"
   ]
  },
  {
   "cell_type": "code",
   "execution_count": 51,
   "metadata": {},
   "outputs": [
    {
     "name": "stdout",
     "output_type": "stream",
     "text": [
      "пятница\n"
     ]
    }
   ],
   "source": [
    "number = 5\n",
    "if number == 1:\n",
    "    print (\"понедельник\")\n",
    "elif number == 2:\n",
    "    print (\"вторник\")\n",
    "elif number == 3:\n",
    "    print (\"среда\")\n",
    "elif number == 4:\n",
    "    print (\"четверг\")\n",
    "elif number == 5:\n",
    "    print (\"пятница\")\n",
    "elif number == 6:\n",
    "    print (\"суббота\")\n",
    "else:\n",
    "    print (\"воскресенье\")"
   ]
  },
  {
   "cell_type": "code",
   "execution_count": 52,
   "metadata": {},
   "outputs": [
    {
     "name": "stdout",
     "output_type": "stream",
     "text": [
      "воскресенье\n"
     ]
    }
   ],
   "source": [
    "number = 7\n",
    "if number == 1:\n",
    "    print (\"понедельник\")\n",
    "elif number == 2:\n",
    "    print (\"вторник\")\n",
    "elif number == 3:\n",
    "    print (\"среда\")\n",
    "elif number == 4:\n",
    "    print (\"четверг\")\n",
    "elif number == 5:\n",
    "    print (\"пятница\")\n",
    "elif number == 6:\n",
    "    print (\"суббота\")\n",
    "else:\n",
    "    print (\"воскресенье\")"
   ]
  },
  {
   "cell_type": "code",
   "execution_count": 53,
   "metadata": {},
   "outputs": [
    {
     "name": "stdout",
     "output_type": "stream",
     "text": [
      "понедельник\n"
     ]
    }
   ],
   "source": [
    "number = 1\n",
    "if number == 1:\n",
    "    print (\"понедельник\")\n",
    "elif number == 2:\n",
    "    print (\"вторник\")\n",
    "elif number == 3:\n",
    "    print (\"среда\")\n",
    "elif number == 4:\n",
    "    print (\"четверг\")\n",
    "elif number == 5:\n",
    "    print (\"пятница\")\n",
    "elif number == 6:\n",
    "    print (\"суббота\")\n",
    "else:\n",
    "    print (\"воскресенье\")"
   ]
  },
  {
   "cell_type": "code",
   "execution_count": 55,
   "metadata": {},
   "outputs": [
    {
     "name": "stdout",
     "output_type": "stream",
     "text": [
      "Норма\n"
     ]
    }
   ],
   "source": [
    "weihgt = 80\n",
    "height = 1.8\n",
    "imt = weight / height**2\n",
    "if imt < 18.5:\n",
    "    print (\"Недостаточная масса тела\")\n",
    "elif imt > 24.99:\n",
    "    print (\"Избыточная масса тела\")\n",
    "else:\n",
    "    print (\"Норма\")"
   ]
  },
  {
   "cell_type": "code",
   "execution_count": 67,
   "metadata": {},
   "outputs": [
    {
     "name": "stdout",
     "output_type": "stream",
     "text": [
      "24.691358024691358 Норма\n"
     ]
    }
   ],
   "source": [
    "weihgt = 100\n",
    "height = 1.8\n",
    "imt = weight / height**2\n",
    "if imt < 18.5:\n",
    "    print (imt, \"Недостаточная масса тела\")\n",
    "elif imt > 24.99:\n",
    "    print (imt, \"Избыточная масса тела\")\n",
    "else:\n",
    "    print (imt, \"Норма\")"
   ]
  },
  {
   "cell_type": "code",
   "execution_count": 71,
   "metadata": {},
   "outputs": [
    {
     "name": "stdout",
     "output_type": "stream",
     "text": [
      "24.691358024691358\n",
      "Норма\n"
     ]
    }
   ],
   "source": [
    "weihgt = 1150\n",
    "height = 1.8\n",
    "print(weight / height**2)\n",
    "if weight / height**2 < 18.5:\n",
    "    print (\"Недостаточная масса тела\")\n",
    "elif weight / height**2 > 24.99:\n",
    "    print (\"Избыточная масса тела\")\n",
    "else:\n",
    "    print (\"Норма\")"
   ]
  },
  {
   "cell_type": "code",
   "execution_count": 75,
   "metadata": {},
   "outputs": [
    {
     "name": "stdout",
     "output_type": "stream",
     "text": [
      "24.691358024691358\n",
      "Норма\n"
     ]
    }
   ],
   "source": [
    "weihgt = 80\n",
    "height = 1.8\n",
    "print(weihgt / height**2)\n",
    "if weihgt / height**2 < 18.5:\n",
    "    print (\"Недостаточная масса тела\")\n",
    "elif weihgt / height**2 > 24.99:\n",
    "    print (\"Избыточная масса тела\")\n",
    "else:\n",
    "    print (\"Норма\")"
   ]
  },
  {
   "cell_type": "code",
   "execution_count": 78,
   "metadata": {},
   "outputs": [
    {
     "name": "stdout",
     "output_type": "stream",
     "text": [
      "30.864197530864196\n",
      "Избыточная масса тела\n"
     ]
    }
   ],
   "source": [
    "weihgt = 100\n",
    "height = 1.8\n",
    "print(weihgt / height**2)\n",
    "if weihgt / height**2 >= 18.5 and weihgt / height**2 <= 24.99:\n",
    "    print (\"Норма\")\n",
    "elif weihgt / height**2 < 18.5:\n",
    "    print (\"Недостаточная масса тела\")\n",
    "else:\n",
    "    print (\"Избыточная масса тела\")"
   ]
  },
  {
   "cell_type": "code",
   "execution_count": 95,
   "metadata": {},
   "outputs": [
    {
     "name": "stdout",
     "output_type": "stream",
     "text": [
      "вводимая оценка - хорошо\n"
     ]
    }
   ],
   "source": [
    "mark = 7\n",
    "if mark < 4:\n",
    "    print (\"вводимая оценка - неудовлетворительно\")\n",
    "elif mark <= 5:\n",
    "    print (\"вводимая оценка - удовлетворительно\")\n",
    "elif mark <= 7:\n",
    "    print (\"вводимая оценка - хорошо\")\n",
    "else:\n",
    "    print (\"вводимая оценка - отлично\")"
   ]
  },
  {
   "cell_type": "code",
   "execution_count": 101,
   "metadata": {},
   "outputs": [
    {
     "name": "stdout",
     "output_type": "stream",
     "text": [
      "Сегодня твой выбор - ресторан!\n"
     ]
    }
   ],
   "source": [
    "balance = 6000\n",
    "if balance <= 2500:\n",
    "    print (\"Придется потерпеть!\")\n",
    "elif balance < 5000:\n",
    "    print (\"Эх, только фастфуд.\")\n",
    "else:\n",
    "    print (\"Сегодня твой выбор - ресторан!\")"
   ]
  },
  {
   "cell_type": "code",
   "execution_count": 107,
   "metadata": {},
   "outputs": [
    {
     "name": "stdout",
     "output_type": "stream",
     "text": [
      "Число делится на 2 без остатка.\n"
     ]
    }
   ],
   "source": [
    "number = 452\n",
    "if number % 2 == 0:\n",
    "    print (\"Число делится на 2 без остатка.\")\n",
    "elif number % 3 == 0:\n",
    "    print (\"Число делится на 3 без остатка.\")\n",
    "elif number % 5 == 0:\n",
    "    print (\"Число делится на 5 без остатка.\")\n",
    "else:\n",
    "    print (\"Число не делится ни на 2, ни на 3, ни на 5 без остатка!\")"
   ]
  },
  {
   "cell_type": "code",
   "execution_count": 108,
   "metadata": {},
   "outputs": [
    {
     "data": {
      "text/plain": [
       "False"
      ]
     },
     "execution_count": 108,
     "metadata": {},
     "output_type": "execute_result"
    }
   ],
   "source": [
    "5 < 3 or 6 > 7 or 4 > 9"
   ]
  },
  {
   "cell_type": "code",
   "execution_count": 109,
   "metadata": {},
   "outputs": [
    {
     "data": {
      "text/plain": [
       "True"
      ]
     },
     "execution_count": 109,
     "metadata": {},
     "output_type": "execute_result"
    }
   ],
   "source": [
    "x = 5\n",
    "y = 10\n",
    "y > x * x or y >= 2 * x and x < y"
   ]
  },
  {
   "cell_type": "code",
   "execution_count": 110,
   "metadata": {},
   "outputs": [
    {
     "data": {
      "text/plain": [
       "False"
      ]
     },
     "execution_count": 110,
     "metadata": {},
     "output_type": "execute_result"
    }
   ],
   "source": [
    "a = True\n",
    "b = False\n",
    "a and b or not a and not b"
   ]
  },
  {
   "cell_type": "code",
   "execution_count": 111,
   "metadata": {},
   "outputs": [
    {
     "data": {
      "text/plain": [
       "True"
      ]
     },
     "execution_count": 111,
     "metadata": {},
     "output_type": "execute_result"
    }
   ],
   "source": [
    "\"239\" < \"30\" and 239 > 30"
   ]
  },
  {
   "cell_type": "code",
   "execution_count": 112,
   "metadata": {},
   "outputs": [
    {
     "data": {
      "text/plain": [
       "True"
      ]
     },
     "execution_count": 112,
     "metadata": {},
     "output_type": "execute_result"
    }
   ],
   "source": [
    "\"5a\"<\"5b\" and 123/2 > 30 or True"
   ]
  },
  {
   "cell_type": "code",
   "execution_count": 113,
   "metadata": {},
   "outputs": [
    {
     "data": {
      "text/plain": [
       "False"
      ]
     },
     "execution_count": 113,
     "metadata": {},
     "output_type": "execute_result"
    }
   ],
   "source": [
    "False and True or 12<5**2 and \"Python\" > \"Ruby\""
   ]
  },
  {
   "cell_type": "code",
   "execution_count": 114,
   "metadata": {},
   "outputs": [
    {
     "data": {
      "text/plain": [
       "True"
      ]
     },
     "execution_count": 114,
     "metadata": {},
     "output_type": "execute_result"
    }
   ],
   "source": [
    "\"Android\" > \"Apple\" or \"Apple\" > \"Android\""
   ]
  },
  {
   "cell_type": "code",
   "execution_count": 115,
   "metadata": {},
   "outputs": [
    {
     "data": {
      "text/plain": [
       "True"
      ]
     },
     "execution_count": 115,
     "metadata": {},
     "output_type": "execute_result"
    }
   ],
   "source": [
    "x = 10\n",
    "y = 15\n",
    "y > x**y - 1000 or \"test\" > \"push\""
   ]
  },
  {
   "cell_type": "code",
   "execution_count": 116,
   "metadata": {},
   "outputs": [
    {
     "data": {
      "text/plain": [
       "True"
      ]
     },
     "execution_count": 116,
     "metadata": {},
     "output_type": "execute_result"
    }
   ],
   "source": [
    "\"test\" > \"push\""
   ]
  },
  {
   "cell_type": "code",
   "execution_count": 117,
   "metadata": {},
   "outputs": [
    {
     "data": {
      "text/plain": [
       "False"
      ]
     },
     "execution_count": 117,
     "metadata": {},
     "output_type": "execute_result"
    }
   ],
   "source": [
    "\"test\" < \"push\""
   ]
  },
  {
   "cell_type": "code",
   "execution_count": 119,
   "metadata": {},
   "outputs": [
    {
     "data": {
      "text/plain": [
       "True"
      ]
     },
     "execution_count": 119,
     "metadata": {},
     "output_type": "execute_result"
    }
   ],
   "source": [
    "\"test\" > \"pushu\""
   ]
  },
  {
   "cell_type": "code",
   "execution_count": 123,
   "metadata": {},
   "outputs": [
    {
     "name": "stdout",
     "output_type": "stream",
     "text": [
      "Аня не любит такие цветы\n"
     ]
    }
   ],
   "source": [
    "flower = 'роза'\n",
    "color = 'фиолетовый'\n",
    "if flower == 'роза' and color == 'синий' or color == 'белый':\n",
    "    print (\"Ане понравятся эти цветы\")\n",
    "else:\n",
    "    print (\"Аня не любит такие цветы\")"
   ]
  },
  {
   "cell_type": "code",
   "execution_count": 126,
   "metadata": {},
   "outputs": [
    {
     "name": "stdout",
     "output_type": "stream",
     "text": [
      "Ваша половинка нашлась!\n"
     ]
    }
   ],
   "source": [
    "height = 180\n",
    "weight = 79\n",
    "color = 'красный'\n",
    "if height > 170 and weight < 80 and color == 'красный':\n",
    "    print (\"Ваша половинка нашлась!\")\n",
    "else:\n",
    "    print (\"Попробуем поискать ещё...\")"
   ]
  },
  {
   "cell_type": "code",
   "execution_count": 133,
   "metadata": {},
   "outputs": [
    {
     "name": "stdout",
     "output_type": "stream",
     "text": [
      "Вова, это нужное число\n"
     ]
    }
   ],
   "source": [
    "number = 346\n",
    "if number % 2 == 0 or number % 5 == 0 or number % 173 == 0 or number % 821 == 0:\n",
    "    print(\"Вова, это нужное число\")\n",
    "else:\n",
    "    print(\"Вова, в этот раз ты не попал\")"
   ]
  },
  {
   "cell_type": "code",
   "execution_count": 138,
   "metadata": {},
   "outputs": [
    {
     "name": "stdout",
     "output_type": "stream",
     "text": [
      "Python\n"
     ]
    }
   ],
   "source": [
    "fav_word = 'Аппликация'\n",
    "if fav_word == 'рептилия' or fav_word == 'питон' or fav_word == 'змея':\n",
    "    print (\"Python\")\n",
    "elif fav_word == 'плюс' or fav_word == 'плюсы':\n",
    "    print (\"C++\")\n",
    "elif fav_word == 'рубин' or fav_word == 'кристалл':\n",
    "    print (\"Ruby\")\n",
    "else:\n",
    "    print (\"Python\")"
   ]
  },
  {
   "cell_type": "code",
   "execution_count": 139,
   "metadata": {},
   "outputs": [
    {
     "name": "stdout",
     "output_type": "stream",
     "text": [
      "Преподаватель занят.\n"
     ]
    }
   ],
   "source": [
    "hour = 18\n",
    "minute = 47\n",
    "if 600 <= hour*60 + minute < 630 or 720 <= hour*60 + minute < 820 or 900 <= hour*60 + minute < 1080 or 1170 <= hour*60 + minute < 1200:\n",
    "    print (\"Преподаватель свободен.\")\n",
    "else:\n",
    "    print (\"Преподаватель занят.\")"
   ]
  },
  {
   "cell_type": "code",
   "execution_count": 140,
   "metadata": {},
   "outputs": [
    {
     "name": "stdout",
     "output_type": "stream",
     "text": [
      "1 п\n",
      "2 о\n",
      "3 д\n",
      "4 ш\n",
      "5 и\n",
      "6 п\n",
      "7 н\n",
      "8 и\n",
      "9 к\n"
     ]
    }
   ],
   "source": [
    "word = 'подшипник'\n",
    "for i, letter in enumerate (word, 1):\n",
    "    print (i, letter)"
   ]
  },
  {
   "cell_type": "code",
   "execution_count": 141,
   "metadata": {},
   "outputs": [
    {
     "name": "stdout",
     "output_type": "stream",
     "text": [
      "п\n",
      "д\n",
      "и\n",
      "н\n",
      "к\n"
     ]
    }
   ],
   "source": [
    "word = 'подшипник'\n",
    "for i, letter in enumerate (word, 1):\n",
    "    if i % 2 != 0:\n",
    "        print (letter)"
   ]
  },
  {
   "cell_type": "markdown",
   "metadata": {},
   "source": [
    "Вы решили написать программу, которая выявляет високосные года в диапазоне лет.\n",
    "Пусть она принимает на вход два числа: нижнюю и верхнюю границы годов (переменные year_1 и year_2),\n",
    "и для каждого года из диапазона выводит информацию: \"... год високосный\" или \"... год невисокосный\",\n",
    "где вместо многоточия указывается номер года.\n",
    "\n",
    "Для проверки используйте year_1 = 2013, year_2 = 2020. Значения обеих переменных должны быть включены в диапазон."
   ]
  },
  {
   "cell_type": "code",
   "execution_count": 143,
   "metadata": {},
   "outputs": [
    {
     "name": "stdout",
     "output_type": "stream",
     "text": [
      "2013 год невисокосный\n",
      "2014 год невисокосный\n",
      "2015 год невисокосный\n",
      "2016 год високосный\n",
      "2017 год невисокосный\n",
      "2018 год невисокосный\n",
      "2019 год невисокосный\n",
      "2020 год високосный\n"
     ]
    }
   ],
   "source": [
    "year_1 = 2013\n",
    "year_2 = 2020\n",
    "for year in range(year_1, year_2+1):\n",
    "    if year % 4 == 0:\n",
    "        print (year, \"год високосный\")\n",
    "    else:\n",
    "        print (year, \"год невисокосный\")"
   ]
  },
  {
   "cell_type": "markdown",
   "metadata": {},
   "source": [
    "Напишите программу, которая принимает на вход слово (word) и последовательно выводит все русские гласные из этого слова. Для проверки используйте word = 'Зимушка-зима'"
   ]
  },
  {
   "cell_type": "code",
   "execution_count": 144,
   "metadata": {},
   "outputs": [
    {
     "name": "stdout",
     "output_type": "stream",
     "text": [
      "и\n",
      "у\n",
      "а\n",
      "и\n",
      "а\n"
     ]
    }
   ],
   "source": [
    "word = 'Зимушка-зима'\n",
    "for letter in word:\n",
    "    if letter == 'а' or letter == 'е' or letter == 'ё' or letter == 'и' or letter == 'о' or letter == 'у' or letter == 'ы' or letter == 'э' or letter == 'ю' or letter == 'я':\n",
    "        print (letter)"
   ]
  },
  {
   "cell_type": "markdown",
   "metadata": {},
   "source": [
    "Попросите пользователя ввести своё имя (name) и с помощью цикла выведите каждую букву этого имени на экран, сопроводив порядковым номером с помощью фразы: \"Буква ... в этом имени - ...\" (например, \"Буква 1 в этом имени - С\"). Для проверки используйте name = 'Сергей'"
   ]
  },
  {
   "cell_type": "code",
   "execution_count": 146,
   "metadata": {},
   "outputs": [
    {
     "name": "stdout",
     "output_type": "stream",
     "text": [
      "Буква 1 в этом имени - С\n",
      "Буква 2 в этом имени - е\n",
      "Буква 3 в этом имени - р\n",
      "Буква 4 в этом имени - г\n",
      "Буква 5 в этом имени - е\n",
      "Буква 6 в этом имени - й\n"
     ]
    }
   ],
   "source": [
    "name = 'Сергей'\n",
    "for i, letter in enumerate(name, 1):\n",
    "    print(\"Буква\", i, \"в этом имени -\", letter)"
   ]
  },
  {
   "cell_type": "markdown",
   "metadata": {},
   "source": [
    "Напишите программу, которая последовательно выводит нечётные числа, которые делятся на 3 или 5, от первого введённого числа (num_1) до второго введённого числа (num_2) включительно. Если второе число меньше первого или первое число меньше нуля, выведите \"Введён неверный диапазон чисел\".\n",
    "\n",
    "Для проверки используйте num_1 = 25, num_2 = 45"
   ]
  },
  {
   "cell_type": "code",
   "execution_count": 161,
   "metadata": {},
   "outputs": [
    {
     "name": "stdout",
     "output_type": "stream",
     "text": [
      "25\n",
      "27\n",
      "33\n",
      "35\n",
      "39\n"
     ]
    }
   ],
   "source": [
    "num_1 = 25\n",
    "num_2 = 45\n",
    "if num_2 < num_1 or num_1 < 0:\n",
    "    print (\"Введён неверный диапазон чисел\")\n",
    "else:\n",
    "    for i in range(num_1, num_2):\n",
    "        if i % 2 != 0 and (i % 3 == 0 or i % 5 == 0):\n",
    "            print(i)"
   ]
  },
  {
   "cell_type": "code",
   "execution_count": 163,
   "metadata": {},
   "outputs": [
    {
     "name": "stdout",
     "output_type": "stream",
     "text": [
      "25\n",
      "27\n",
      "33\n",
      "35\n",
      "39\n",
      "45\n"
     ]
    }
   ],
   "source": [
    "num_1 = 25\n",
    "num_2 = 45\n",
    "if num_2 > num_1 and num_1 >= 0:\n",
    "    for i in range(num_1, num_2+1):\n",
    "        if i % 2 != 0 and (i % 3 == 0 or i % 5 == 0):\n",
    "            print(i)\n",
    "else:\n",
    "    print (\"Введён неверный диапазон чисел\")"
   ]
  },
  {
   "cell_type": "code",
   "execution_count": 162,
   "metadata": {},
   "outputs": [
    {
     "name": "stdout",
     "output_type": "stream",
     "text": [
      "25\n",
      "27\n",
      "33\n",
      "35\n",
      "39\n"
     ]
    }
   ],
   "source": [
    "num_1 = 25\n",
    "num_2 = 45\n",
    "if num_2 > num_1 and num_1 >= 0:\n",
    "    for i in range(num_1, num_2):\n",
    "        if i % 2 != 0:\n",
    "            if i % 3 == 0 or i % 5 == 0:\n",
    "                print(i)\n",
    "else:\n",
    "    print (\"Введён неверный диапазон чисел\")"
   ]
  },
  {
   "cell_type": "markdown",
   "metadata": {},
   "source": [
    "Выведите таблицу квадратов и кубов для чисел от 1 до 10 включительно. (Каждая новая строчка распечатывается через print() и имеет формат '2 4 8', то есть число, затем его квадрат, а затем его куб)"
   ]
  },
  {
   "cell_type": "code",
   "execution_count": 164,
   "metadata": {},
   "outputs": [
    {
     "name": "stdout",
     "output_type": "stream",
     "text": [
      "1 1 1\n",
      "2 4 8\n",
      "3 9 27\n",
      "4 16 64\n",
      "5 25 125\n",
      "6 36 216\n",
      "7 49 343\n",
      "8 64 512\n",
      "9 81 729\n",
      "10 100 1000\n"
     ]
    }
   ],
   "source": [
    "for i in range(1, 11):\n",
    "    print(i, i**2, i**3)"
   ]
  },
  {
   "cell_type": "markdown",
   "metadata": {},
   "source": [
    "Напишите программу, которая получает на вход число (number) и последовательно в порядке возрастания выводит все его делители на экран (само число тоже является своим делителем).\n",
    "\n",
    "Для проверки используйте number = 84"
   ]
  },
  {
   "cell_type": "code",
   "execution_count": 165,
   "metadata": {},
   "outputs": [
    {
     "name": "stdout",
     "output_type": "stream",
     "text": [
      "1\n",
      "2\n",
      "3\n",
      "4\n",
      "6\n",
      "7\n",
      "12\n",
      "14\n",
      "21\n",
      "28\n",
      "42\n",
      "84\n"
     ]
    }
   ],
   "source": [
    "number = 84\n",
    "for i in range(1, number+1):\n",
    "    if number % i == 0:\n",
    "        print(i)"
   ]
  },
  {
   "cell_type": "markdown",
   "metadata": {},
   "source": [
    "Написать программу, которая ищет все общие (не равные 1) делители двух чисел (num_1 и num_2), введённых пользователем, и последовательно в порядке возрастания выводит их на экран. Если общих делителей нет, не выводит на экран ничего.\n",
    "\n",
    "Для проверки используйте num_1 = 12 и num_2 = 38"
   ]
  },
  {
   "cell_type": "code",
   "execution_count": 3,
   "metadata": {},
   "outputs": [
    {
     "name": "stdout",
     "output_type": "stream",
     "text": [
      "2\n"
     ]
    }
   ],
   "source": [
    "num_1 = 12\n",
    "num_2 = 38\n",
    "for i in range(2, num_2+1):\n",
    "    if num_1 % i == 0 and num_2 % i == 0:\n",
    "        print(i)"
   ]
  },
  {
   "cell_type": "markdown",
   "metadata": {},
   "source": [
    "Напишите программу, которая выводит таблицу умножения от 1 до 10 для выбранного целого числа (number). Если number = 15, то строка таблицы имеет вид \"15 X 3 = 45\".\n",
    "\n",
    "Для проверки используйте number = 15"
   ]
  },
  {
   "cell_type": "code",
   "execution_count": 2,
   "metadata": {},
   "outputs": [
    {
     "name": "stdout",
     "output_type": "stream",
     "text": [
      "15 X 1 = 15\n",
      "15 X 2 = 30\n",
      "15 X 3 = 45\n",
      "15 X 4 = 60\n",
      "15 X 5 = 75\n",
      "15 X 6 = 90\n",
      "15 X 7 = 105\n",
      "15 X 8 = 120\n",
      "15 X 9 = 135\n",
      "15 X 10 = 150\n"
     ]
    }
   ],
   "source": [
    "number = 15\n",
    "for i in range(1, 11):\n",
    "    print(number, \"X\", i, \"=\", number * i)"
   ]
  },
  {
   "cell_type": "markdown",
   "metadata": {},
   "source": [
    "Написать программу, которая на вход получает натуральное число n и выводит n-е число ряда Фибоначчи на экран. Для проверки используйте n = 10\n",
    "\n",
    "Пояснение: последовательность Фибоначчи — это ряд чисел, в котором первые два элемента равны 1, а каждый следующий элемент равен сумме двух предыдущих: 1, 1, 2, 3, 5, 8, 13, 21, ..."
   ]
  },
  {
   "cell_type": "code",
   "execution_count": 1,
   "metadata": {},
   "outputs": [
    {
     "name": "stdout",
     "output_type": "stream",
     "text": [
      "55\n"
     ]
    }
   ],
   "source": [
    "n = 10\n",
    "f1 = 1\n",
    "f2 = 1\n",
    "for i in range(3, n+1):\n",
    "    f = f1 + f2\n",
    "    f1,f2 = f2,f\n",
    "print(f)"
   ]
  },
  {
   "cell_type": "markdown",
   "metadata": {},
   "source": [
    "Напишите программу, которая ищет наибольший (не равный 1) общий делитель двух чисел, введённых пользователем (num_1, num_2), и выводит его на экран. Если общих делителей нет, выводит на экран \"Общих делителей не найдено\".\n",
    "\n",
    "Для проверки используйте num_1 = 1812, num_2 = 2500 и не меняйте их в ходе решения.\n",
    "\n",
    "PS: Если использовать break в цикле for - else, то при прерывании цикла код после else выполняться не будет."
   ]
  },
  {
   "cell_type": "code",
   "execution_count": 23,
   "metadata": {},
   "outputs": [
    {
     "name": "stdout",
     "output_type": "stream",
     "text": [
      "4\n"
     ]
    }
   ],
   "source": [
    "num_1 = 1812\n",
    "num_2 = 2500\n",
    "for i in range(num_2, 1, -1):\n",
    "    if num_1 % i == 0 and num_2 % i == 0:\n",
    "        print(i)\n",
    "        break\n",
    "else:\n",
    "    print(\"Общих делителей не найдено\")"
   ]
  },
  {
   "cell_type": "markdown",
   "metadata": {},
   "source": [
    "Напишите программу с использованием оператора continue, которая принимает на вход строку (string), после чего выводит её посимвольно, но без букв \"а\", \"б\", \"в\". Пример: ввод \"арбуз\", вывод \"руз\".\n",
    "\n",
    "Для проверки используйте string = 'абстракция'.\n",
    "\n",
    "Чтобы выводить побуквенно в одну строчку, в функции print предусмотрен параметр end. Если написать print('Hallo!', end=''), следующий print продолжит вывод не с новой строки. В коде обязательно используйте 'continue'."
   ]
  },
  {
   "cell_type": "code",
   "execution_count": 33,
   "metadata": {},
   "outputs": [
    {
     "name": "stdout",
     "output_type": "stream",
     "text": [
      "стркция"
     ]
    }
   ],
   "source": [
    "string = 'абстракция'\n",
    "for letter in string:\n",
    "    if letter == 'а' or letter == 'б' or letter == 'в':\n",
    "        continue\n",
    "    else:\n",
    "        print(letter, end = \"\")"
   ]
  },
  {
   "cell_type": "markdown",
   "metadata": {},
   "source": [
    "Напишите программу, которая анализирует ответы пользователя на вопрос \"Любите ли вы Python?\". Если ответ пользователя (string) — \"Да\", то программа отвечает: \"Это отлично!\", иначе программа отвечает: \"Увы, это неправильный ответ\". Программа должна \"спросить\" пользователя максимум 5 раз. При пяти ответах \"Нет\" выводит: \"Это безнадёжно!\".\n",
    "\n",
    "Для проверки используйте string = 'Нет', а на каждой итерации цикла не меняйте значение переменной.\n",
    "\n",
    "Команду, выводящую на экран вопрос: \"Любите ли вы Python?\", в код включать НЕ нужно."
   ]
  },
  {
   "cell_type": "code",
   "execution_count": 37,
   "metadata": {},
   "outputs": [
    {
     "name": "stdout",
     "output_type": "stream",
     "text": [
      "Увы, это неправильный ответ\n",
      "Увы, это неправильный ответ\n",
      "Увы, это неправильный ответ\n",
      "Увы, это неправильный ответ\n",
      "Увы, это неправильный ответ\n",
      "Это безнадёжно!\n"
     ]
    }
   ],
   "source": [
    "string = 'Нет'\n",
    "for i in range(1, 6):\n",
    "    if string == 'Нет':\n",
    "        print(\"Увы, это неправильный ответ\")\n",
    "        if i == 5:\n",
    "            print(\"Это безнадёжно!\")\n",
    "    elif string == 'Да':\n",
    "        print(\"Это отлично!\")\n",
    "        break"
   ]
  },
  {
   "cell_type": "markdown",
   "metadata": {},
   "source": [
    "Напишите программу, которая проверяет, является ли введённое число (number) простым. Если число простое, то программа выводит \"Простое\", иначе \"Не является простым\".\n",
    "\n",
    "Для проверки используйте number = 173"
   ]
  },
  {
   "cell_type": "code",
   "execution_count": 133,
   "metadata": {},
   "outputs": [
    {
     "name": "stdout",
     "output_type": "stream",
     "text": [
      "Простое\n"
     ]
    }
   ],
   "source": [
    "number = 173\n",
    "for i in range(2, number):\n",
    "    if number % i == 0:\n",
    "        print(\"Не является простым\")\n",
    "        break\n",
    "    else:\n",
    "        print(\"Простое\")\n",
    "        break"
   ]
  },
  {
   "cell_type": "markdown",
   "metadata": {},
   "source": [
    "Напишите программу, которая проверяет введённую пользователем строку (string) на соответствие правилу: у строки нет ни одной гласной русской маленькой буквы на каждой чётной позиции. Пример подходящей строки: \"пока!\" (в Python первый символ является нулевым, поэтому мы считаем первый символ чётным). Если строка подходит, программа выводит на экран \"Какая хорошая строка!\", а иначе — \"Строка мне не нравится!\".\n",
    "\n",
    "Для проверки используйте string = 'прелестная строка'"
   ]
  },
  {
   "cell_type": "code",
   "execution_count": 128,
   "metadata": {},
   "outputs": [
    {
     "name": "stdout",
     "output_type": "stream",
     "text": [
      "Какая хорошая строка!\n",
      "Какая хорошая строка!\n",
      "Строка мне не нравится!\n"
     ]
    }
   ],
   "source": [
    "string = 'прелестная строка'\n",
    "d = 'аеёиоуыэюя'\n",
    "for i, letter in enumerate(string):\n",
    "    if i%2==0 and letter in d:\n",
    "        print(\"Строка мне не нравится!\")\n",
    "        break\n",
    "    else:\n",
    "        print(\"Какая хорошая строка!\")"
   ]
  },
  {
   "cell_type": "code",
   "execution_count": 2,
   "metadata": {},
   "outputs": [
    {
     "name": "stdout",
     "output_type": "stream",
     "text": [
      "Строка мне не нравится!\n"
     ]
    }
   ],
   "source": [
    "string = 'пока'\n",
    "for i, letter in enumerate(string):\n",
    "    if letter in range(0, len(string), 2) and letter not in ('а','е','ё','и','о','у','ы','э','ю','я'):\n",
    "        print(\"Какая хорошая строка!\")\n",
    "    else:\n",
    "        print(\"Строка мне не нравится!\")\n",
    "        break"
   ]
  },
  {
   "cell_type": "markdown",
   "metadata": {},
   "source": [
    "Клиент банка открыл вклад под 10% годовых и положил на этот счёт Y рублей. Напишите программу, позволяющую определить, через сколько лет клиент будет иметь на счету сумму не менее Z рублей. На вход программе идут два числа — Y, Z.\n",
    "\n",
    "Для проверки используйте Y = 170000, Z = 1000000. В результате работы программа должна вывести на экран число лет, которое потребуется для накопления требуемой суммы. Ответ должен быть выведен на экран в виде целого числа без какого-либо дополнительного поясняющего текста.\n",
    "\n",
    "Внимание: в процессе выполнения программы изменяйте переменную Y."
   ]
  },
  {
   "cell_type": "code",
   "execution_count": 5,
   "metadata": {},
   "outputs": [
    {
     "name": "stdout",
     "output_type": "stream",
     "text": [
      "19\n"
     ]
    }
   ],
   "source": [
    "Y = 170000\n",
    "Z = 1000000\n",
    "year = 0\n",
    "while Y < Z:\n",
    "    Y = Y * 1.1\n",
    "    year += 1\n",
    "else:\n",
    "    print(year)"
   ]
  },
  {
   "cell_type": "markdown",
   "metadata": {},
   "source": [
    "Пассажирский лифт имеет ограничение на перевозку: не более 400 кг единовременно. Пусть на вход программе поступает вес (weight) входящих в лифт людей, а в случае, когда возникает перевес, программа выдаёт предупреждение: \"Перевес N кг\". Например, при перевесе в 15 кг должно быть выведено сообщение: \"Перевес 15 кг\". Обратите внимание, что в эталонной фразе не используются знаки препинания.\n",
    "\n",
    "Для проверки используйте weight = 77 и не меняйте его по ходу цикла."
   ]
  },
  {
   "cell_type": "code",
   "execution_count": 10,
   "metadata": {},
   "outputs": [],
   "source": [
    "weight = 77\n",
    "while weight <= 400:\n",
    "    break\n",
    "else:\n",
    "    print(\"Перевес\", weight - 400, \"кг\")"
   ]
  },
  {
   "cell_type": "markdown",
   "metadata": {},
   "source": [
    "Вы играете в компьютерную игру, дошли до схватки с финальным боссом, но вот беда: ваш компьютер \"заглючил\", и вы не можете управлять персонажем в игре. Босс атакует и каждую секунду наносит один удар, который отнимает у вас 80 единиц здоровья. На схватку с боссом вы вышли с 500 единицами здоровья. Создайте цикл, позволяющий понять, через сколько секунд босс вас убьет.\n",
    "\n",
    "В результате работы программа должна вывести на экран число секунд, в течение которых будет длиться схватка. Ответ должен быть выведен на экран в виде целого числа без какого-либо дополнительного поясняющего текста.\n",
    "\n",
    "Для проверки используйте переменную current_health для сохранения текущего уровня здоровья и изменяйте её по ходу цикла, и — переменную attack = 80 для хранения значения атаки Босса."
   ]
  },
  {
   "cell_type": "code",
   "execution_count": 11,
   "metadata": {},
   "outputs": [
    {
     "name": "stdout",
     "output_type": "stream",
     "text": [
      "7\n"
     ]
    }
   ],
   "source": [
    "current_health = 500\n",
    "attack = 80\n",
    "sec = 0\n",
    "while current_health > 0:\n",
    "    current_health -= attack\n",
    "    sec += 1\n",
    "print(sec)"
   ]
  },
  {
   "cell_type": "markdown",
   "metadata": {},
   "source": [
    "На банковской карте хранятся 10 000 рублей. Хозяин карты написал программу, в которую вводит свои расходы (spent), после чего программа показывает баланс (balance). Баланс выводится в виде целого числа без каких-либо дополнительных сообщений. Например, при остатке 3500 рублей на экран выводится число 3500. Когда сумма средств на карте становится ниже нуля, программа выводит сообщение: \"Слишком большие расходы\".\n",
    "\n",
    "Напишите программу, которая выводит на экран начальный баланс карты (число 10000), баланс после каждого списания и сообщение \"Слишком большие расходы\" при достижении отрицательного баланса.\n",
    "\n",
    "Для проверки используйте переменную spent = 2800 и НЕ меняйте её по ходу цикла. Переменная balance должна меняться после каждого шага цикла."
   ]
  },
  {
   "cell_type": "code",
   "execution_count": 13,
   "metadata": {},
   "outputs": [
    {
     "name": "stdout",
     "output_type": "stream",
     "text": [
      "10000\n",
      "7200\n",
      "4400\n",
      "1600\n",
      "Слишком большие расходы\n"
     ]
    }
   ],
   "source": [
    "balance = 10000\n",
    "spent = 2800\n",
    "print(balance)\n",
    "while balance >= 2800:\n",
    "    balance -= spent\n",
    "    print(balance)\n",
    "else:\n",
    "    print(\"Слишком большие расходы\")"
   ]
  },
  {
   "cell_type": "markdown",
   "metadata": {},
   "source": [
    "Представьте, что перед вами большая цистерна объёмом 1000 литров, которую необходимо заполнить водой. У вас есть робот, который доставляет в цистерну сначала 5 литров, а затем каждый раз на 5 литров больше, чем в предыдущий. Изначально в цистерне нет воды. Через сколько заходов робота вода польётся через край?\n",
    "\n",
    "В результате работы программа должна вывести на экран число заходов, необходимых роботу для заполнения цистерны до краёв. Ответ должен быть выведен на экран в виде целого числа без какого-либо дополнительного поясняющего текста.\n",
    "\n",
    "Для проверки используйте переменную volume, равную свободному объёму в цистерне, и меняйте её по ходу цикла (на последнем шаге она должна быть меньше нуля)."
   ]
  },
  {
   "cell_type": "code",
   "execution_count": 15,
   "metadata": {},
   "outputs": [
    {
     "name": "stdout",
     "output_type": "stream",
     "text": [
      "21\n"
     ]
    }
   ],
   "source": [
    "volume = 1000\n",
    "i = 1\n",
    "while volume > 0:\n",
    "    volume -= 5 * i\n",
    "    i += 1\n",
    "print(i)"
   ]
  },
  {
   "cell_type": "code",
   "execution_count": 16,
   "metadata": {},
   "outputs": [
    {
     "data": {
      "text/plain": [
       "'gfghggf'"
      ]
     },
     "execution_count": 16,
     "metadata": {},
     "output_type": "execute_result"
    }
   ],
   "source": [
    "'gfg'+'hggf'"
   ]
  },
  {
   "cell_type": "code",
   "execution_count": 20,
   "metadata": {},
   "outputs": [
    {
     "name": "stdout",
     "output_type": "stream",
     "text": [
      "Строка мне не нравится!\n"
     ]
    }
   ],
   "source": [
    "string='прелестная строка'\n",
    "string='пока!'\n",
    "count=len(string)\n",
    "for i, letter in enumerate(string):\n",
    "    if i%2==0:\n",
    "        if letter in 'аоиеёэыуюя':\n",
    "            print('Строка мне не нравится!')\n",
    "            break\n",
    "else:\n",
    "    print('Какая хорошая строка!')"
   ]
  },
  {
   "cell_type": "code",
   "execution_count": null,
   "metadata": {},
   "outputs": [],
   "source": [
    "string = 'пока'\n",
    "for i, letter in enumerate(string):\n",
    "    if letter in range(0, len(string), 2) and letter not in ('а','е','ё','и','о','у','ы','э','ю','я'):\n",
    "        print(\"Какая хорошая строка!\")\n",
    "    else:\n",
    "        print(\"Строка мне не нравится!\")\n",
    "        break"
   ]
  }
 ],
 "metadata": {
  "kernelspec": {
   "display_name": "Python 3",
   "language": "python",
   "name": "python3"
  },
  "language_info": {
   "codemirror_mode": {
    "name": "ipython",
    "version": 3
   },
   "file_extension": ".py",
   "mimetype": "text/x-python",
   "name": "python",
   "nbconvert_exporter": "python",
   "pygments_lexer": "ipython3",
   "version": "3.8.5"
  }
 },
 "nbformat": 4,
 "nbformat_minor": 4
}
