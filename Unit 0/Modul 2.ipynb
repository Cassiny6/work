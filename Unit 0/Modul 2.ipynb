{
 "cells": [
  {
   "cell_type": "code",
   "execution_count": 3,
   "metadata": {},
   "outputs": [
    {
     "name": "stdout",
     "output_type": "stream",
     "text": [
      "[]\n"
     ]
    }
   ],
   "source": [
    "my_list = list()\n",
    "print(my_list)"
   ]
  },
  {
   "cell_type": "code",
   "execution_count": 6,
   "metadata": {},
   "outputs": [
    {
     "name": "stdout",
     "output_type": "stream",
     "text": [
      "Александр\n",
      "Константин\n",
      "Мария\n",
      "Диана\n",
      "Алексей\n",
      "Максим\n",
      "Светлана\n",
      "Арина\n",
      "Серафим\n",
      "Doomer\n",
      "Павел\n",
      "Виктория\n",
      "Елена\n",
      "Галина\n",
      "Вячеслав\n"
     ]
    }
   ],
   "source": [
    "OurBestStudents = ['Александр', 'Константин', 'Мария', 'Диана', 'Алексей', \n",
    "                   'Максим', 'Светлана', 'Арина', 'Серафим', 'Doomer', \n",
    "                   'Павел', 'Виктория', 'Елена', 'Галина', 'Вячеслав']\n",
    "for name in OurBestStudents:\n",
    "    print(name)\n",
    "#    if name[0] in 'йцкнгшщзхфвпрлдчсмтб':\n",
    "#        print(OurBestStudents[name])"
   ]
  },
  {
   "cell_type": "code",
   "execution_count": 9,
   "metadata": {},
   "outputs": [
    {
     "name": "stdout",
     "output_type": "stream",
     "text": [
      "['голова', 'руки', 'ноги', 'глаза', 'уши', 'рот', 'нос', 'туловище']\n",
      "['голова', 'руки', 'ноги', 'глаза', 'уши', 'рот', 'нос', 'туловище']\n",
      "['руки', 'ноги', 'глаза', 'уши', 'рот', 'нос', 'туловище']\n",
      "['руки', 'ноги', 'глаза', 'уши', 'рот', 'нос']\n",
      "['руки', 'ноги', 'глаза', 'уши', 'рот', 'нос', 'туловище']\n"
     ]
    }
   ],
   "source": [
    "body = ['голова', 'руки', 'ноги', 'глаза', 'уши', 'рот', 'нос', 'туловище']\n",
    "print(body)\n",
    "print(body[:])\n",
    "print(body[1:])\n",
    "print(body[1:7])\n",
    "print(body[1:8])"
   ]
  },
  {
   "cell_type": "markdown",
   "metadata": {},
   "source": [
    "В ближайшее воскресенье в городе проводится выставка, в которой должны принять участие пять сотрудников фирмы. Поскольку большого желания участвовать в выставке в выходной день никто не изъявил, выбор решено было доверить компьютеру.\n",
    "\n",
    "Напишите код, который выберет из списка каждого второго сотрудника, начиная с Иванова (т.е. Иванова, Сидорова, Дятлова, Лисичкина и Капустина).\n",
    "\n",
    "Запишите свой код в одну строку без пробелов. Индексы верхней и нижней границ задайте в явном виде. Не забудьте о правильном написании имени переменной, в которой хранится список"
   ]
  },
  {
   "cell_type": "code",
   "execution_count": 11,
   "metadata": {},
   "outputs": [
    {
     "name": "stdout",
     "output_type": "stream",
     "text": [
      "['Иванов', 'Сидоров', 'Дятлов', 'Лисичкин', 'Капустин']\n"
     ]
    }
   ],
   "source": [
    "sparta = ['Иванов', 'Петров', 'Сидоров', 'Зайцев', 'Дятлов', \n",
    "          'Козлов', 'Лисичкин', 'Огурцов', 'Капустин', 'Арбузов']\n",
    "print(sparta[0:9:2])"
   ]
  },
  {
   "cell_type": "markdown",
   "metadata": {},
   "source": [
    "Приближается профессиональный праздник, который в данном ТОО всегда отмечают с большим размахом. К празднику руководство решило поощрить трех рядовых сотрудников. Чтобы никому не было обидно, выбор сотрудников решено было доверить компьютеру.\n",
    "\n",
    "Напишите код, с помощью которого можно извлечь из списка фамилии каждого третьего сотрудника, начиная с Петрова (т.е. Петрова, Дятлова и Огурцова).\n",
    "\n",
    "Запишите свой код в одну строку без пробелов. Индексы верхней и нижней границ задайте в явном виде. Не забудьте о правильном написании имени переменной, в которой хранится список"
   ]
  },
  {
   "cell_type": "code",
   "execution_count": 12,
   "metadata": {},
   "outputs": [
    {
     "name": "stdout",
     "output_type": "stream",
     "text": [
      "['Петров', 'Дятлов', 'Огурцов']\n"
     ]
    }
   ],
   "source": [
    "print(sparta[1:9:3])"
   ]
  },
  {
   "cell_type": "code",
   "execution_count": 13,
   "metadata": {},
   "outputs": [
    {
     "name": "stdout",
     "output_type": "stream",
     "text": [
      "['Арбузов', 'Лисичкин', 'Зайцев', 'Иванов']\n"
     ]
    }
   ],
   "source": [
    "print(sparta[::-3])"
   ]
  },
  {
   "cell_type": "code",
   "execution_count": 15,
   "metadata": {},
   "outputs": [
    {
     "name": "stdout",
     "output_type": "stream",
     "text": [
      "[1024, 512, 256, 128, 64, 32, 16, 8, 4, 2, 1]\n"
     ]
    }
   ],
   "source": [
    "my_list = [1]\n",
    "for i in range(10):\n",
    "    my_list.append(my_list[i] * 2)\n",
    "my_list.sort(reverse = True)\n",
    "print(my_list)"
   ]
  },
  {
   "cell_type": "code",
   "execution_count": 16,
   "metadata": {},
   "outputs": [
    {
     "name": "stdout",
     "output_type": "stream",
     "text": [
      "['а', 'а', 'а', 'б', 'б', 'п', 'п', 'я']\n"
     ]
    }
   ],
   "source": [
    "fruits = 'яблоко банан апельсин баклажан перец помидор арбуз ананас'.split()\n",
    "my_list = []\n",
    "for fruit in fruits:\n",
    "    my_list.append(fruit[0])\n",
    "my_list.sort()\n",
    "print(my_list)"
   ]
  },
  {
   "cell_type": "markdown",
   "metadata": {},
   "source": [
    "Напишите программу, которая создаёт список, содержащий целые, кратные трём числа в интервале от 1 до 50. Найдите сумму элементов этого списка. Результат вычислений сохраните в переменной с именем result."
   ]
  },
  {
   "cell_type": "code",
   "execution_count": 18,
   "metadata": {},
   "outputs": [
    {
     "name": "stdout",
     "output_type": "stream",
     "text": [
      "408\n"
     ]
    }
   ],
   "source": [
    "my_list = []\n",
    "for i in range(1, 51):\n",
    "    if i % 3 == 0:\n",
    "        my_list.append(i)\n",
    "result = sum(my_list)\n",
    "print(result)"
   ]
  },
  {
   "cell_type": "markdown",
   "metadata": {},
   "source": [
    "Напишите программу, которая создаёт список my_list, содержащий длины слов из списка raw_list (дан в начале кода), и находит сумму минимального и максимального элементов нового списка (my_list). Результат вычислений (сумма минимального и максимального элементов списка my_list) присвойте переменной result."
   ]
  },
  {
   "cell_type": "code",
   "execution_count": 25,
   "metadata": {},
   "outputs": [
    {
     "name": "stdout",
     "output_type": "stream",
     "text": [
      "15\n"
     ]
    }
   ],
   "source": [
    "raw_list = ['переменные', 'циклы', 'условия', 'списки', 'словари', 'файлы', 'функции']\n",
    "my_list = []\n",
    "for word in raw_list:\n",
    "    my_list.append(len(word))\n",
    "result = min(my_list) + max(my_list)\n",
    "print(result)"
   ]
  },
  {
   "cell_type": "markdown",
   "metadata": {},
   "source": [
    "Дан список raw_list (содержимое списка приведено в начале кода). Найдите минимальное (x_min) и максимальное (x_max) значения элементов данного списка.\n",
    "\n",
    "Создайте новый список my_list, состоящий из элементов списка raw_list, умноженных на x_min, если элемент является чётным числом, и на x_max, в случае если элемент нечётный.\n",
    "\n",
    "Найдите максимальное значение списка my_list. Результат присвойте переменной result."
   ]
  },
  {
   "cell_type": "code",
   "execution_count": 28,
   "metadata": {},
   "outputs": [
    {
     "name": "stdout",
     "output_type": "stream",
     "text": [
      "5041\n"
     ]
    }
   ],
   "source": [
    "raw_list = [2, 8, 10, 23, 64, 49, 11, 52, 71, 14]\n",
    "x_min = min(raw_list)\n",
    "x_max = max(raw_list)\n",
    "my_list = []\n",
    "for el in raw_list:\n",
    "    if el % 2 == 0:\n",
    "        my_list.append(el * x_min)\n",
    "    else:\n",
    "        my_list.append(el * x_max)\n",
    "result = max(my_list)\n",
    "print(result)"
   ]
  },
  {
   "cell_type": "code",
   "execution_count": 30,
   "metadata": {},
   "outputs": [
    {
     "name": "stdout",
     "output_type": "stream",
     "text": [
      "[15, 30, 45, 60, 75, 90]\n"
     ]
    }
   ],
   "source": [
    "my_list = [x for x in range(10, 100) if x%3 == 0 and x%5 == 0]\n",
    "print(my_list)"
   ]
  },
  {
   "cell_type": "code",
   "execution_count": 31,
   "metadata": {},
   "outputs": [
    {
     "name": "stdout",
     "output_type": "stream",
     "text": [
      "[1, 1, 4, 1024, 9, 59049, 16, 1048576, 25, 9765625, 36, 60466176, 49, 282475249, 64, 1073741824, 81, 3486784401]\n"
     ]
    }
   ],
   "source": [
    "powers = [x**y for x in range(1, 10) for y in [2,10]]\n",
    "print(powers)"
   ]
  },
  {
   "cell_type": "code",
   "execution_count": 32,
   "metadata": {},
   "outputs": [
    {
     "name": "stdout",
     "output_type": "stream",
     "text": [
      "[3, 5, 7, 11, 13, 17, 19, 23, 29, 31, 37, 41, 43, 47, 53, 59, 61, 67, 71, 73, 79, 83, 89, 97]\n"
     ]
    }
   ],
   "source": [
    "numbers = [x for x in range(3,100) if [x%y for y in range(2,x)].count(0) == 0]\n",
    "print(numbers)"
   ]
  },
  {
   "cell_type": "code",
   "execution_count": 33,
   "metadata": {},
   "outputs": [
    {
     "name": "stdout",
     "output_type": "stream",
     "text": [
      "['п', 'р', 'и', 'в', 'е', 'т']\n"
     ]
    }
   ],
   "source": [
    "my_list = [x for x in 'п р и в е т'.split()] \n",
    "print(my_list)"
   ]
  },
  {
   "cell_type": "code",
   "execution_count": 34,
   "metadata": {},
   "outputs": [
    {
     "name": "stdout",
     "output_type": "stream",
     "text": [
      "['п', 'р', 'в', 'т']\n"
     ]
    }
   ],
   "source": [
    "my_list = [x for x in 'привет' if x in ['п', 'р', 'в', 'т']] \n",
    "print(my_list)"
   ]
  },
  {
   "cell_type": "code",
   "execution_count": 35,
   "metadata": {},
   "outputs": [
    {
     "name": "stdout",
     "output_type": "stream",
     "text": [
      "None\n"
     ]
    }
   ],
   "source": [
    "my_list = 'синхрофазотрон'.split().sort()\n",
    "print(my_list)"
   ]
  },
  {
   "cell_type": "code",
   "execution_count": 36,
   "metadata": {},
   "outputs": [
    {
     "name": "stdout",
     "output_type": "stream",
     "text": [
      "[]\n"
     ]
    }
   ],
   "source": [
    "my_list = [x for x in 'синхрофазотрон' if x > x[0]] \n",
    "print(my_list)"
   ]
  },
  {
   "cell_type": "code",
   "execution_count": 37,
   "metadata": {},
   "outputs": [
    {
     "ename": "SyntaxError",
     "evalue": "invalid syntax (<ipython-input-37-99b1aa43a34c>, line 1)",
     "output_type": "error",
     "traceback": [
      "\u001b[1;36m  File \u001b[1;32m\"<ipython-input-37-99b1aa43a34c>\"\u001b[1;36m, line \u001b[1;32m1\u001b[0m\n\u001b[1;33m    my_list = [x if x in 'синхрофазотрон'].sort()\u001b[0m\n\u001b[1;37m                                         ^\u001b[0m\n\u001b[1;31mSyntaxError\u001b[0m\u001b[1;31m:\u001b[0m invalid syntax\n"
     ]
    }
   ],
   "source": [
    "my_list = [x if x in 'синхрофазотрон'].sort() \n",
    "print(my_list)"
   ]
  },
  {
   "cell_type": "code",
   "execution_count": 38,
   "metadata": {},
   "outputs": [
    {
     "name": "stdout",
     "output_type": "stream",
     "text": [
      "['а', 'з', 'и', 'н', 'н', 'о', 'о', 'о', 'р', 'р', 'с', 'т', 'ф', 'х']\n"
     ]
    }
   ],
   "source": [
    "my_list = sorted([x for x in 'синхрофазотрон']) \n",
    "print(my_list)"
   ]
  },
  {
   "cell_type": "markdown",
   "metadata": {},
   "source": [
    "Перепишите привёденный ниже код, используя генератор списков. Полученный в результате работы генератора список должен иметь имя my_list.\n",
    "\n",
    "my_list = []\n",
    "for x in range(1, 50):\n",
    "    if x%7 == 0:\n",
    "        my_list.append(x**0.5)"
   ]
  },
  {
   "cell_type": "code",
   "execution_count": 43,
   "metadata": {},
   "outputs": [
    {
     "name": "stdout",
     "output_type": "stream",
     "text": [
      "[2.6457513110645907, 3.7416573867739413, 4.58257569495584, 5.291502622129181, 5.916079783099616, 6.48074069840786, 7.0]\n",
      "[2.6457513110645907, 3.7416573867739413, 4.58257569495584, 5.291502622129181, 5.916079783099616, 6.48074069840786, 7.0]\n"
     ]
    }
   ],
   "source": [
    "my_list = []\n",
    "for x in range(1, 50):\n",
    "    if x%7 == 0:\n",
    "        my_list.append(x**0.5)\n",
    "print(my_list)\n",
    "my_list = []\n",
    "my_list=[x**0.5 for x in range(1, 50) if x % 7 == 0]\n",
    "print(my_list)"
   ]
  },
  {
   "cell_type": "markdown",
   "metadata": {},
   "source": [
    "Перепишите привёденный ниже код, используя генератор списков. Полученный в результате работы генератора список должен иметь имя my_list.\n",
    "\n",
    "my_list = []\n",
    "for x in range(90, 100):\n",
    "    first_digit = x//10\n",
    "    last_digit = x%10\n",
    "    my_list.append(first_digit + last_digit)"
   ]
  },
  {
   "cell_type": "code",
   "execution_count": 47,
   "metadata": {},
   "outputs": [
    {
     "name": "stdout",
     "output_type": "stream",
     "text": [
      "[9, 10, 11, 12, 13, 14, 15, 16, 17, 18]\n",
      "[9, 10, 11, 12, 13, 14, 15, 16, 17, 18]\n"
     ]
    }
   ],
   "source": [
    "my_list = []\n",
    "for x in range(90, 100):\n",
    "    first_digit = x//10\n",
    "    last_digit = x%10\n",
    "    my_list.append(first_digit + last_digit)\n",
    "print(my_list)    \n",
    "my_lyst = [x//10 + x%10 for x in range(90, 100)]\n",
    "print(my_list)"
   ]
  },
  {
   "cell_type": "markdown",
   "metadata": {},
   "source": [
    "У вас есть телефонная книга. Напишите код, который создает одномерный список phones с перечисленными номерами телефонов. Порядок номеров должен совпадать со справочником\n",
    "Имя \t            Телефон\n",
    "Мария Никитина \t    +79033923029\n",
    "Егор Савичев \t    +78125849204\n",
    "Александр Пахомов \t+79053049385\n",
    "Алина Егорова \t    +79265748370\n",
    "Руслан Башаров    \t+79030598495"
   ]
  },
  {
   "cell_type": "code",
   "execution_count": 90,
   "metadata": {},
   "outputs": [
    {
     "name": "stdout",
     "output_type": "stream",
     "text": [
      "+79033923029\n",
      "+78125849204\n",
      "+79053049385\n",
      "+79265748370\n",
      "+79030598495\n"
     ]
    }
   ],
   "source": [
    "phones = [['+79033923029', 'Мария Никитина'], ['+78125849204', 'Егор Савичев'], ['+79053049385', 'Александр Пахомов'], ['+79265748370', 'Алина Егорова'], ['+79030598495', 'Руслан Башаров']]\n",
    "for phona in phones:\n",
    "    for i, phones in enumerate(phona):\n",
    "        if i == 0:\n",
    "            print(phones)"
   ]
  },
  {
   "cell_type": "code",
   "execution_count": 91,
   "metadata": {},
   "outputs": [],
   "source": [
    "employee_base = {\n",
    "    'Мария Никитина': '+79033923029',\n",
    "    'Егор Савичев': '+78125849204',\n",
    "    'Александр Пахомов': '+79053049385',\n",
    "    'Алина Егорова': '+79265748370',\n",
    "    'Руслан Башаров': '+79030598495'\n",
    "}"
   ]
  },
  {
   "cell_type": "code",
   "execution_count": 93,
   "metadata": {},
   "outputs": [
    {
     "name": "stdout",
     "output_type": "stream",
     "text": [
      "+79265748370\n"
     ]
    }
   ],
   "source": [
    "print(employee_base['Алина Егорова'])"
   ]
  },
  {
   "cell_type": "markdown",
   "metadata": {},
   "source": [
    "Дан словарь с результатами жеребьевки Чемпионата мира по футболу-2018 пяти стран по группам:\n",
    "\n",
    "draw_dict = {\n",
    "\t'Россия': 'A',\n",
    "\t'Португалия': 'B',\n",
    "\t'Франция': 'C',\n",
    "\t'Дания': 'C',\n",
    "\t'Египет': 'A'\n",
    "}\n",
    "\n",
    "Напишите код, который по названию страны country присваивает переменной group название группы по результатам жеребьевки. Если страны нет в словаре draw_dict, то переменной group присваивается значение 'unknown'. Выполните код для значения country = 'Италия'. "
   ]
  },
  {
   "cell_type": "code",
   "execution_count": 108,
   "metadata": {},
   "outputs": [
    {
     "name": "stdout",
     "output_type": "stream",
     "text": [
      "unknown\n"
     ]
    }
   ],
   "source": [
    "draw_dict = {\n",
    "\t'Россия': 'A',\n",
    "\t'Португалия': 'B',\n",
    "\t'Франция': 'C',\n",
    "\t'Дания': 'C',\n",
    "\t'Египет': 'A'\n",
    "}\n",
    "country = ['Италия']\n",
    "for el in country:\n",
    "    if el in draw_dict:\n",
    "        group = draw_dict[el]\n",
    "        print(group)\n",
    "    else:\n",
    "        group = 'unknown'\n",
    "        print(group)"
   ]
  },
  {
   "cell_type": "markdown",
   "metadata": {},
   "source": [
    "Решите предыдущую задачу, используя метод setdefault. Вместо проверки на наличие ключа вы можете сразу назначить значение по умолчанию 'unknown'. Проверьте работу кода для country = 'Италия'. Результат запишите в переменную group"
   ]
  },
  {
   "cell_type": "code",
   "execution_count": 112,
   "metadata": {},
   "outputs": [
    {
     "name": "stdout",
     "output_type": "stream",
     "text": [
      "unknown\n"
     ]
    }
   ],
   "source": [
    "draw_dict = {\n",
    "\t'Россия': 'A',\n",
    "\t'Португалия': 'B',\n",
    "\t'Франция': 'C',\n",
    "\t'Дания': 'C',\n",
    "\t'Египет': 'A'\n",
    "}\n",
    "country = ['Италия']\n",
    "for el in country:\n",
    "    draw_dict.setdefault(el, 'unknown')\n",
    "    group = draw_dict[el]\n",
    "    print(group)"
   ]
  },
  {
   "cell_type": "markdown",
   "metadata": {},
   "source": [
    "Отфильтруйте словарь draw_dict, оставив в нем только страны группы A. Отфильтрованный результат запишите в новый словарь draw_new\n",
    "\n",
    "draw_dict = {\n",
    "\t'Россия': 'A',\n",
    "\t'Португалия': 'B',\n",
    "\t'Франция': 'C',\n",
    "\t'Дания': 'C',\n",
    "\t'Египет': 'A'\n",
    "}\n",
    "\n",
    "Подсказка:\n",
    "\n",
    "Для добавления в словарь нового элемента в коде нужно указать имя словаря, далее в квадратных скобках указать новый ключ (в виде строки или имени переменной), поставить знак \" = \" и после этого указать значение, которое необходимо установить для данного ключа."
   ]
  },
  {
   "cell_type": "code",
   "execution_count": 173,
   "metadata": {},
   "outputs": [
    {
     "name": "stdout",
     "output_type": "stream",
     "text": [
      "{'Россия': 'A', 'Египет': 'A'}\n"
     ]
    }
   ],
   "source": [
    "draw_dict = {\n",
    "\t'Россия': 'A',\n",
    "\t'Португалия': 'B',\n",
    "\t'Франция': 'C',\n",
    "\t'Дания': 'C',\n",
    "\t'Египет': 'A'\n",
    "}\n",
    "country = ['Россия', 'Португалия', 'Франция', 'Дания', 'Египет']\n",
    "group = ['A', 'B', 'C']\n",
    "draw_new = {}\n",
    "for country in draw_dict:\n",
    "    if draw_dict[country] == 'A':\n",
    "        draw_new[country] = draw_dict[country]\n",
    "print(draw_new)"
   ]
  },
  {
   "cell_type": "markdown",
   "metadata": {},
   "source": [
    "Отфильтруйте словарь draw_dict с помощью метода items, оставив в нем только страны группы A. Отфильтрованный результат запишите в новый словарь draw_new\n",
    "\n",
    "draw_dict = {\n",
    "\t'Россия': 'A',\n",
    "\t'Португалия': 'B',\n",
    "\t'Франция': 'C',\n",
    "\t'Дания': 'C',\n",
    "\t'Египет': 'A'\n",
    "}"
   ]
  },
  {
   "cell_type": "code",
   "execution_count": 145,
   "metadata": {},
   "outputs": [
    {
     "name": "stdout",
     "output_type": "stream",
     "text": [
      "{'Россия': 'A', 'Египет': 'A'}\n"
     ]
    }
   ],
   "source": [
    "draw_dict = {\n",
    "\t'Россия': 'A',\n",
    "\t'Португалия': 'B',\n",
    "\t'Франция': 'C',\n",
    "\t'Дания': 'C',\n",
    "\t'Египет': 'A'\n",
    "}\n",
    "country = ['Россия', 'Португалия', 'Франция', 'Дания', 'Египет']\n",
    "group = ['A', 'B', 'C']\n",
    "draw_new = {}\n",
    "for country, group in draw_dict.items():\n",
    "    if group == 'A':\n",
    "        draw_new[country] = draw_dict[country]\n",
    "print(draw_new)"
   ]
  },
  {
   "cell_type": "markdown",
   "metadata": {},
   "source": [
    "Сотрудник ведет запись ежедневных расходов по партнерам. Он мог бы записывать суммы за 1-3 апреля в знакомые нам списки, но это не очень удобно: [2504, 4994, 6343]. Оформите расходы в словарь, в котором ключами являются даты ('2019-04-01', '2019-04-02', '2019-04-03' апреля), а значениями — суммы расходов (2504, 4994 и 6343 рублей соответственно)."
   ]
  },
  {
   "cell_type": "code",
   "execution_count": 130,
   "metadata": {},
   "outputs": [
    {
     "name": "stdout",
     "output_type": "stream",
     "text": [
      "13841\n"
     ]
    }
   ],
   "source": [
    "costs_dict = {\n",
    "    '2019-04-01': 2504,\n",
    "    '2019-04-02': 4994,\n",
    "    '2019-04-03': 6343\n",
    "}\n",
    "cost = []\n",
    "date = ['2019-04-01', '2019-04-02', '2019-04-03']\n",
    "for date in costs_dict:\n",
    "    cost.append(costs_dict[date])\n",
    "sum_cost = sum(cost)\n",
    "print(sum_cost)"
   ]
  },
  {
   "cell_type": "code",
   "execution_count": 135,
   "metadata": {},
   "outputs": [
    {
     "name": "stdout",
     "output_type": "stream",
     "text": [
      "Номер верен\n"
     ]
    }
   ],
   "source": [
    "phones = {\n",
    "\t'Гордиенко Виктория': 5140,\n",
    "\t'Анисимов Кирилл': 5145,\n",
    "\t'Кузнецова Дарья': 5142\n",
    "}\n",
    "if phones['Кузнецова Дарья'] == 5142:\n",
    "\tprint('Номер верен')"
   ]
  },
  {
   "cell_type": "code",
   "execution_count": 137,
   "metadata": {},
   "outputs": [
    {
     "name": "stdout",
     "output_type": "stream",
     "text": [
      "Номер верен\n"
     ]
    }
   ],
   "source": [
    "phones = {\n",
    "\t'Гордиенко Виктория': 5140,\n",
    "\t'Анисимов Кирилл': 5145,\n",
    "\t'Кузнецова Дарья': 5142\n",
    "}\n",
    "for name, phone in phones.items():\n",
    "\tif name == 'Кузнецова Дарья' and phone == 5142:\n",
    "\t\tprint('Номер верен')"
   ]
  },
  {
   "cell_type": "code",
   "execution_count": 138,
   "metadata": {},
   "outputs": [
    {
     "name": "stdout",
     "output_type": "stream",
     "text": [
      "Номер верен\n"
     ]
    }
   ],
   "source": [
    "phones = {\n",
    "\t'Гордиенко Виктория': 5140,\n",
    "\t'Анисимов Кирилл': 5145,\n",
    "\t'Кузнецова Дарья': 5142\n",
    "}\n",
    "for record in phones:\n",
    "\tif record == 'Кузнецова Дарья' and phones[record] == 5142:\n",
    "\t\tprint('Номер верен')"
   ]
  },
  {
   "cell_type": "markdown",
   "metadata": {},
   "source": [
    "Напишите код, который записывает в переменную pulsometer_id идентификатор товара \"Пульсометр Beurer PM62\"\n",
    "\n",
    "В исполняемый код необходимо добавить переменную csv_file.\n",
    "\n",
    "csv_file = [\n",
    "    ['100412', 'Ботинки для горных лыж ATOMIC Hawx Prime 100', 9],\n",
    "    ['100728', 'Скейтборд Jdbug RT03', 32],\n",
    "    ['100732', 'Роллерсерф Razor RipStik Bright', 11],\n",
    "    ['100803', 'Ботинки для сноуборда DC Tucknee', 20],\n",
    "    ['100898', 'Шагомер Omron HJA-306', 2],\n",
    "    ['100934', 'Пульсометр Beurer PM62', 17],\n",
    "]"
   ]
  },
  {
   "cell_type": "code",
   "execution_count": 174,
   "metadata": {},
   "outputs": [
    {
     "name": "stdout",
     "output_type": "stream",
     "text": [
      "100934\n"
     ]
    }
   ],
   "source": [
    "csv_file = [\n",
    "    ['100412', 'Ботинки для горных лыж ATOMIC Hawx Prime 100', 9],\n",
    "    ['100728', 'Скейтборд Jdbug RT03', 32],\n",
    "    ['100732', 'Роллерсерф Razor RipStik Bright', 11],\n",
    "    ['100803', 'Ботинки для сноуборда DC Tucknee', 20],\n",
    "    ['100898', 'Шагомер Omron HJA-306', 2],\n",
    "    ['100934', 'Пульсометр Beurer PM62', 17],\n",
    "]\n",
    "pulsometer_id = csv_file[5][0]\n",
    "print(pulsometer_id)"
   ]
  },
  {
   "cell_type": "markdown",
   "metadata": {},
   "source": [
    "Отфильтруйте список товарных позиций csv_file, оставив только те позиции, у которых количество штук на складе больше 10. Результат запишите в переменную csv_file_filtered\n",
    "\n",
    "csv_file = [\n",
    "    ['100412', 'Ботинки для горных лыж ATOMIC Hawx Prime 100', 9],\n",
    "    ['100728', 'Скейтборд Jdbug RT03', 32],\n",
    "    ['100732', 'Роллерсерф Razor RipStik Bright', 11],\n",
    "    ['100803', 'Ботинки для сноуборда DC Tucknee', 20],\n",
    "    ['100898', 'Шагомер Omron HJA-306', 2],\n",
    "    ['100934', 'Пульсометр Beurer PM62', 17],\n",
    "]"
   ]
  },
  {
   "cell_type": "code",
   "execution_count": 185,
   "metadata": {},
   "outputs": [
    {
     "name": "stdout",
     "output_type": "stream",
     "text": [
      "[['100728', 'Скейтборд Jdbug RT03', 32], ['100732', 'Роллерсерф Razor RipStik Bright', 11], ['100803', 'Ботинки для сноуборда DC Tucknee', 20], ['100934', 'Пульсометр Beurer PM62', 17]]\n"
     ]
    }
   ],
   "source": [
    "csv_file = [\n",
    "    ['100412', 'Ботинки для горных лыж ATOMIC Hawx Prime 100', 9],\n",
    "    ['100728', 'Скейтборд Jdbug RT03', 32],\n",
    "    ['100732', 'Роллерсерф Razor RipStik Bright', 11],\n",
    "    ['100803', 'Ботинки для сноуборда DC Tucknee', 20],\n",
    "    ['100898', 'Шагомер Omron HJA-306', 2],\n",
    "    ['100934', 'Пульсометр Beurer PM62', 17],\n",
    "]\n",
    "csv_file_filtered = []\n",
    "for record in csv_file:\n",
    "    if record[2] > 10:\n",
    "        csv_file_filtered.append(record)\n",
    "print(csv_file_filtered)"
   ]
  },
  {
   "cell_type": "markdown",
   "metadata": {},
   "source": [
    "Разработчики поменяли формат выгрузки из базы данных товарных позиций. Теперь это список словарей, каждый столбец в котором имеет имя. Напишите код, который оставляет только те товары, в названии которых есть слово \"Ботинки\". Результат запишите в переменную csv_dict_boots\n",
    "\n",
    "csv_dict = [\n",
    "    {'id': '100412', 'position': 'Ботинки для горных лыж ATOMIC Hawx Prime 100', 'count': 9},\n",
    "    {'id': '100728', 'position': 'Скейтборд Jdbug RT03', 'count': 32},\n",
    "    {'id': '100732', 'position': 'Роллерсерф Razor RipStik Bright', 'count': 11},\n",
    "    {'id': '100803', 'position': 'Ботинки для сноуборда DC Tucknee', 'count': 20},\n",
    "    {'id': '100898', 'position': 'Шагомер Omron HJA-306', 'count': 2},\n",
    "    {'id': '100934', 'position': 'Пульсометр Beurer PM62', 'count': 17},\n",
    "]"
   ]
  },
  {
   "cell_type": "code",
   "execution_count": 191,
   "metadata": {},
   "outputs": [
    {
     "name": "stdout",
     "output_type": "stream",
     "text": [
      "[{'id': '100412', 'position': 'Ботинки для горных лыж ATOMIC Hawx Prime 100', 'count': 9}, {'id': '100803', 'position': 'Ботинки для сноуборда DC Tucknee', 'count': 20}]\n"
     ]
    }
   ],
   "source": [
    "csv_dict = [\n",
    "    {'id': '100412', 'position': 'Ботинки для горных лыж ATOMIC Hawx Prime 100', 'count': 9},\n",
    "    {'id': '100728', 'position': 'Скейтборд Jdbug RT03', 'count': 32},\n",
    "    {'id': '100732', 'position': 'Роллерсерф Razor RipStik Bright', 'count': 11},\n",
    "    {'id': '100803', 'position': 'Ботинки для сноуборда DC Tucknee', 'count': 20},\n",
    "    {'id': '100898', 'position': 'Шагомер Omron HJA-306', 'count': 2},\n",
    "    {'id': '100934', 'position': 'Пульсометр Beurer PM62', 'count': 17},\n",
    "]\n",
    "csv_dict_boots = []\n",
    "for record in csv_dict:\n",
    "    if record['position'][:7] == 'Ботинки':\n",
    "        csv_dict_boots.append(record)\n",
    "print(csv_dict_boots)"
   ]
  },
  {
   "cell_type": "markdown",
   "metadata": {},
   "source": [
    "Дана статистика результатов рекламной кампании по каналу (ключ 'source') и сумме расходов ('cost').\n",
    "\n",
    "results = [\n",
    "\t{'cost': 98, 'source': 'vk'},\n",
    "\t{'cost': 153, 'source': 'yandex'},\n",
    "\t{'cost': 110, 'source': 'facebook'},\n",
    "]\n",
    "\n",
    "Напишите код, который ищет минимальное значение ключа cost в этом словаре. Укажите это значение в качестве ответа"
   ]
  },
  {
   "cell_type": "code",
   "execution_count": 220,
   "metadata": {},
   "outputs": [
    {
     "name": "stdout",
     "output_type": "stream",
     "text": [
      "98\n"
     ]
    }
   ],
   "source": [
    "results = [\n",
    "\t{'cost': 98, 'source': 'vk'},\n",
    "\t{'cost': 153, 'source': 'yandex'},\n",
    "\t{'cost': 110, 'source': 'facebook'},\n",
    "]\n",
    "min_cost = results[0]['cost']\n",
    "for stat in results:\n",
    "    if stat['cost'] < min_cost:\n",
    "        min_cost = stat['cost']\n",
    "print(min_cost)"
   ]
  },
  {
   "cell_type": "markdown",
   "metadata": {},
   "source": [
    "На каждом этапе производственной линии закладываются отклонения от исходных размеров, ведущие к деформации, т. е. после каждого этапа размер детали умножается на значение ключа damage:\n",
    "\n",
    "defect_stats = [\n",
    "\t{'step number': 1, 'damage': 0.98},\n",
    "\t{'step number': 2, 'damage': 0.99},\n",
    "\t{'step number': 3, 'damage': 0.99},\n",
    "\t{'step number': 4, 'damage': 0.96},\n",
    "\t{'step number': 5, 'damage': 0.97},\n",
    "\t{'step number': 6, 'damage': 0.97},\n",
    "]\n",
    "\n",
    "Если исходный размер детали принять за 100%, то на каком шаге повреждения приведут к размеру менее 90%?"
   ]
  },
  {
   "cell_type": "code",
   "execution_count": 231,
   "metadata": {},
   "outputs": [
    {
     "name": "stdout",
     "output_type": "stream",
     "text": [
      "5 0.8944157375999999\n"
     ]
    }
   ],
   "source": [
    "defect_stats = [\n",
    "\t{'step number': 1, 'damage': 0.98},\n",
    "\t{'step number': 2, 'damage': 0.99},\n",
    "\t{'step number': 3, 'damage': 0.99},\n",
    "\t{'step number': 4, 'damage': 0.96},\n",
    "\t{'step number': 5, 'damage': 0.97},\n",
    "\t{'step number': 6, 'damage': 0.97},\n",
    "]\n",
    "max_damage = 0.9\n",
    "health = 1\n",
    "step = 0\n",
    "for status in defect_stats:\n",
    "    if health >= max_damage:\n",
    "        health *= status['damage']\n",
    "        step += 1\n",
    "print(step, health)\n",
    "        "
   ]
  },
  {
   "cell_type": "markdown",
   "metadata": {},
   "source": [
    "Имеется статистика курсов валют. Какая валюта имеет минимальный курс по отношению к рублю за 1 единицу? Для определения курса валюты необходимо значение ключа 'Value' разделить на значение ключа 'Nominal'. В качестве ответа укажите код валюты (например, AUD)\n",
    "\n",
    "currency = {\n",
    "\t'AMD': {\n",
    "\t\t'Name': 'Армянских драмов',\n",
    "\t\t'Nominal': 100,\n",
    "\t\t'Value': 13.121\n",
    "\t},\n",
    "\n",
    "\t'AUD': {\n",
    "\t\t'Name': 'Австралийский доллар',\n",
    "\t\t'Nominal': 1,\n",
    "\t\t'Value': 45.5309\n",
    "\t},\n",
    "\n",
    "\t'INR': {\n",
    "\t\t'Name': 'Индийских рупий',\n",
    "\t\t'Nominal': 100,\n",
    "\t\t'Value': 92.9658\n",
    "\t},\n",
    "\n",
    "\t'MDL': {\n",
    "\t\t'Name': 'Молдавских леев',\n",
    "\t\t'Nominal': 10,\n",
    "\t\t'Value': 36.9305\n",
    "\t},\n",
    "}"
   ]
  },
  {
   "cell_type": "code",
   "execution_count": 258,
   "metadata": {},
   "outputs": [
    {
     "name": "stdout",
     "output_type": "stream",
     "text": [
      "AMD 0.13121\n"
     ]
    }
   ],
   "source": [
    "currency = {\n",
    "\t'AMD': {\n",
    "\t\t'Name': 'Армянских драмов',\n",
    "\t\t'Nominal': 100,\n",
    "\t\t'Value': 13.121\n",
    "\t},\n",
    "\n",
    "\t'AUD': {\n",
    "\t\t'Name': 'Австралийский доллар',\n",
    "\t\t'Nominal': 1,\n",
    "\t\t'Value': 45.5309\n",
    "\t},\n",
    "\n",
    "\t'INR': {\n",
    "\t\t'Name': 'Индийских рупий',\n",
    "\t\t'Nominal': 100,\n",
    "\t\t'Value': 92.9658\n",
    "\t},\n",
    "\n",
    "\t'MDL': {\n",
    "\t\t'Name': 'Молдавских леев',\n",
    "\t\t'Nominal': 10,\n",
    "\t\t'Value': 36.9305\n",
    "\t},\n",
    "}\n",
    "rubl_rate_min = currency['AMD']['Value'] / currency['AMD']['Nominal']\n",
    "for money, stats in currency.items():\n",
    "    rate = stats['Value'] / stats['Nominal']\n",
    "    if rate <= rubl_rate_min:\n",
    "        rubl_rate = rate\n",
    "        min_money = money\n",
    "print(min_money, rubl_rate)"
   ]
  },
  {
   "cell_type": "markdown",
   "metadata": {},
   "source": [
    "Согласно сайту www.bodycounters.com в четырех частях фильма “Пираты Карибского моря” было довольно много погибших. Вот их статистика:\n",
    "\n",
    "bodycount = {\n",
    "\t'Проклятие Черной жемчужины': {\n",
    "\t\t'человек': 17\n",
    "\t}, \n",
    "\n",
    "\t'Сундук мертвеца': {\n",
    "\t\t'человек': 56,\n",
    "\t\t'раков-отшельников': 1\n",
    "\t},\n",
    "\n",
    "\t'На краю света': {\n",
    "\t\t'человек': 88\n",
    "\t},\n",
    "\n",
    "\t'На странных берегах': {\n",
    "\t\t'человек': 56,\n",
    "\t\t'русалок': 2,\n",
    "\t\t'ядовитых жаб': 3,\n",
    "\t\t'пиратов зомби': 2\n",
    "\t}\n",
    "}\n",
    "\n",
    "Напишите скрипт, который считает общее число погибших живых существ во всех сериях. Укажите итоговое число в качестве ответа. Пиратов-зомби в последней части тоже считайте живыми."
   ]
  },
  {
   "cell_type": "code",
   "execution_count": 284,
   "metadata": {},
   "outputs": [
    {
     "name": "stdout",
     "output_type": "stream",
     "text": [
      "225\n"
     ]
    }
   ],
   "source": [
    "bodycount = {\n",
    "\t'Проклятие Черной жемчужины': {\n",
    "\t\t'человек': 17\n",
    "\t}, \n",
    "\n",
    "\t'Сундук мертвеца': {\n",
    "\t\t'человек': 56,\n",
    "\t\t'раков-отшельников': 1\n",
    "\t},\n",
    "\n",
    "\t'На краю света': {\n",
    "\t\t'человек': 88\n",
    "\t},\n",
    "\n",
    "\t'На странных берегах': {\n",
    "\t\t'человек': 56,\n",
    "\t\t'русалок': 2,\n",
    "\t\t'ядовитых жаб': 3,\n",
    "\t\t'пиратов зомби': 2\n",
    "\t}\n",
    "}\n",
    "deads = 0\n",
    "for films in bodycount.values():\n",
    "    for dead in films.values():\n",
    "        deads += dead\n",
    "print(deads)"
   ]
  },
  {
   "cell_type": "code",
   "execution_count": 306,
   "metadata": {},
   "outputs": [
    {
     "name": "stdout",
     "output_type": "stream",
     "text": [
      "107\n",
      "['page', 'page', 'page', 'datepicker', 'table', 'table', 'table', 'table', 'datepicker', 'datepicker', 'datepicker', 'datepicker', 'datepicker', 'page', 'page', 'page', 'page', 'page', 'page', 'page', 'page', 'page', 'page', 'page', 'page', 'page', 'page', 'page', 'page', 'page', 'page', 'page', 'page', 'report', 'report', 'report', 'report', 'page', 'report', 'page', 'page', 'page', 'table', 'table', 'table', 'table', 'page', 'page', 'page', 'page', 'page', 'page', 'page', 'page', 'page', 'page', 'page', 'page', 'report', 'page', 'page', 'page', 'page', 'page', 'report', 'page', 'page', 'page', 'page', 'page', 'page', 'page', 'page', 'page', 'page', 'page', 'page', 'page', 'datepicker', 'datepicker', 'datepicker', 'datepicker', 'datepicker', 'datepicker', 'datepicker', 'page', 'page', 'page', 'page', 'page', 'page', 'report', 'table', 'table', 'datepicker', 'datepicker', 'page', 'page', 'page', 'page', 'page', 'page', 'page', 'page', 'page', 'page', 'page']\n",
      "Counter({'page': 74, 'datepicker': 15, 'table': 10, 'report': 8})\n",
      "[27115, 27115, 27115, 27115, 60459, 60459, 60459, 60459, 58113, 58113]\n",
      "Counter({27115: 4, 60459: 4, 58113: 2})\n",
      "3\n"
     ]
    }
   ],
   "source": [
    "import json\n",
    "import collections\n",
    "\n",
    "with open('data.json', 'rb') as infile:\n",
    "    data = json.load(infile)\n",
    "type(data)\n",
    "data_list = data['events_data']\n",
    "print(len(data_list))\n",
    "\n",
    "categories = []\n",
    "for items in data_list:\n",
    "    category = items['category']\n",
    "    categories.append(category)\n",
    "print(categories)\n",
    "\n",
    "c = collections.Counter()\n",
    "for category in categories:\n",
    "    c[category] += 1\n",
    "print(c)\n",
    "\n",
    "table_clients = []\n",
    "for item in data_list:\n",
    "    client_id = item['client_id']\n",
    "    category = item['category']\n",
    "    if category == 'table':\n",
    "        table_clients.append(client_id)\n",
    "print(table_clients)\n",
    "\n",
    "c = collections.Counter()\n",
    "for client_id in table_clients:\n",
    "    c[client_id] += 1\n",
    "print(c)\n",
    "print(len(c.keys()))\n"
   ]
  },
  {
   "cell_type": "markdown",
   "metadata": {},
   "source": [
    "Подсчитайте количество клиентов (client_id), которые совершали какие-либо действия"
   ]
  },
  {
   "cell_type": "code",
   "execution_count": 324,
   "metadata": {},
   "outputs": [
    {
     "name": "stdout",
     "output_type": "stream",
     "text": [
      "51\n"
     ]
    }
   ],
   "source": [
    "import json\n",
    "import collections\n",
    "\n",
    "with open('data.json', 'rb') as infile:\n",
    "    data = json.load(infile)\n",
    "data_list = data['events_data']\n",
    "\"\"\"\n",
    "actions = []\n",
    "for items in data_list:\n",
    "    action = items['action']\n",
    "    actions.append(action)\n",
    "\n",
    "c = collections.Counter()\n",
    "for action in actions:\n",
    "    c[action] += 1\n",
    "\"\"\"\n",
    "table_clients = []\n",
    "for item in data_list:\n",
    "    client_id = item['client_id']\n",
    "    action = item['action']\n",
    "    if action != None:\n",
    "        table_clients.append(client_id)\n",
    "#print(table_clients)\n",
    "\n",
    "c = collections.Counter()\n",
    "for client_id in table_clients:\n",
    "    c[client_id] += 1\n",
    "print(len(c.keys()))"
   ]
  },
  {
   "cell_type": "markdown",
   "metadata": {},
   "source": [
    "Сколько действий совершил клиент (client_id) под номером 60459?"
   ]
  },
  {
   "cell_type": "code",
   "execution_count": 327,
   "metadata": {},
   "outputs": [
    {
     "name": "stdout",
     "output_type": "stream",
     "text": [
      "12\n"
     ]
    }
   ],
   "source": [
    "print(c[60459])"
   ]
  },
  {
   "cell_type": "markdown",
   "metadata": {},
   "source": [
    "Сколько действий с категорией (category) = page совершил клиент под номером 62602?"
   ]
  },
  {
   "cell_type": "code",
   "execution_count": 338,
   "metadata": {},
   "outputs": [
    {
     "name": "stdout",
     "output_type": "stream",
     "text": [
      "9\n"
     ]
    }
   ],
   "source": [
    "import json\n",
    "import collections\n",
    "\n",
    "with open('data.json', 'rb') as infile:\n",
    "    data = json.load(infile)\n",
    "data_list = data['events_data']\n",
    "\n",
    "table_clients = []\n",
    "for item in data_list:\n",
    "    client_id = item['client_id']\n",
    "    action = item['action']\n",
    "    category = item['category']\n",
    "    if action != None and category == 'page':\n",
    "        table_clients.append(client_id)\n",
    "\n",
    "c = collections.Counter()\n",
    "for client_id in table_clients:\n",
    "    c[client_id] += 1\n",
    "print(c[62602])"
   ]
  },
  {
   "cell_type": "markdown",
   "metadata": {},
   "source": [
    "Сколько уникальных клиентов совершили действия с категорией (category) = report?"
   ]
  },
  {
   "cell_type": "code",
   "execution_count": 384,
   "metadata": {},
   "outputs": [
    {
     "name": "stdout",
     "output_type": "stream",
     "text": [
      "3\n"
     ]
    }
   ],
   "source": [
    "import json\n",
    "import collections\n",
    "\n",
    "with open('data.json', 'rb') as infile:\n",
    "    data = json.load(infile)\n",
    "data_list = data['events_data']\n",
    "\n",
    "table_clients = []\n",
    "for item in data_list:\n",
    "    client_id = item['client_id']\n",
    "    category = item['category']\n",
    "    if category == 'report':\n",
    "        table_clients.append(client_id)\n",
    "        \n",
    "c = collections.Counter()\n",
    "for client_id in table_clients:\n",
    "    c[client_id] += 1\n",
    "print(len(c))"
   ]
  },
  {
   "cell_type": "markdown",
   "metadata": {},
   "source": [
    "Перечислите в каждом из полей идентификаторы клиентов, которые совершили действия с категорией (category) = report (В порядке возрастания идентификаторов)"
   ]
  },
  {
   "cell_type": "code",
   "execution_count": 380,
   "metadata": {},
   "outputs": [
    {
     "name": "stdout",
     "output_type": "stream",
     "text": [
      "Counter({60459: 5, 62602: 2, 58113: 1})\n"
     ]
    }
   ],
   "source": [
    "import json\n",
    "import collections\n",
    "\n",
    "with open('data.json', 'rb') as infile:\n",
    "    data = json.load(infile)\n",
    "data_list = data['events_data']\n",
    "\n",
    "table_clients = []\n",
    "for item in data_list:\n",
    "    client_id = item['client_id']\n",
    "    category = item['category']\n",
    "    if category == 'report':\n",
    "        table_clients.append(client_id)\n",
    "\n",
    "c = collections.Counter()\n",
    "for client_id in table_clients:\n",
    "    c[client_id] += 1\n",
    "print(c)"
   ]
  },
  {
   "cell_type": "code",
   "execution_count": null,
   "metadata": {},
   "outputs": [],
   "source": []
  }
 ],
 "metadata": {
  "kernelspec": {
   "display_name": "Python 3",
   "language": "python",
   "name": "python3"
  },
  "language_info": {
   "codemirror_mode": {
    "name": "ipython",
    "version": 3
   },
   "file_extension": ".py",
   "mimetype": "text/x-python",
   "name": "python",
   "nbconvert_exporter": "python",
   "pygments_lexer": "ipython3",
   "version": "3.8.5"
  }
 },
 "nbformat": 4,
 "nbformat_minor": 4
}
